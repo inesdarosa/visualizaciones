{
  "nbformat": 4,
  "nbformat_minor": 0,
  "metadata": {
    "colab": {
      "provenance": [],
      "authorship_tag": "ABX9TyMTQRslhUsUZIfVcCvA2d5v",
      "include_colab_link": true
    },
    "kernelspec": {
      "name": "python3",
      "display_name": "Python 3"
    },
    "language_info": {
      "name": "python"
    }
  },
  "cells": [
    {
      "cell_type": "markdown",
      "metadata": {
        "id": "view-in-github",
        "colab_type": "text"
      },
      "source": [
        "<a href=\"https://colab.research.google.com/github/inesdarosa/visualizaciones_analisis/blob/main/ancapC7_mediana_ultimas_6horas_feedforward.ipynb\" target=\"_parent\"><img src=\"https://colab.research.google.com/assets/colab-badge.svg\" alt=\"Open In Colab\"/></a>"
      ]
    },
    {
      "cell_type": "code",
      "execution_count": 3,
      "metadata": {
        "colab": {
          "base_uri": "https://localhost:8080/"
        },
        "id": "ajsEoHF7g2X1",
        "outputId": "e0bdfc9a-d8ce-4a71-f4d3-9409c36cf679"
      },
      "outputs": [
        {
          "output_type": "stream",
          "name": "stdout",
          "text": [
            "Mounted at /content/drive\n"
          ]
        }
      ],
      "source": [
        "from google.colab import drive\n",
        "drive.mount('/content/drive')"
      ]
    },
    {
      "cell_type": "code",
      "source": [
        "import numpy as np\n",
        "import pandas as pd \n",
        "from sklearn.model_selection import train_test_split\n",
        "from sklearn.preprocessing import MinMaxScaler\n",
        "\n",
        "import math\n",
        "from keras import models, layers, optimizers, regularizers\n",
        "import random\n",
        "from keras.layers import Dense, Activation, Dropout\n",
        "from sklearn import model_selection, preprocessing\n",
        "import tensorflow as tf\n",
        "from tqdm import tqdm\n",
        "import matplotlib.pyplot as plt\n",
        "\n",
        "from sklearn.metrics import mean_squared_error"
      ],
      "metadata": {
        "id": "DiPsTp1sg75b"
      },
      "execution_count": 4,
      "outputs": []
    },
    {
      "cell_type": "code",
      "source": [
        "C7_2022 = pd.read_csv('/content/drive/MyDrive/ejercicios_proyectos/ancap/DATACHALLENGE 2022/Desafio_Contenido_C7_Total_11-2017_09-2021.csv')\n",
        "var_ind_2022 = pd.read_csv('/content/drive/MyDrive/ejercicios_proyectos/ancap/DATACHALLENGE 2022/Desafio_VariablesControl_DCH2022.csv', sep=';')\n"
      ],
      "metadata": {
        "id": "EZGEOGnyhcGz"
      },
      "execution_count": 5,
      "outputs": []
    },
    {
      "cell_type": "code",
      "source": [
        "C7_2022.Contenido_C7_Total = pd.to_numeric(C7_2022.Contenido_C7_Total, errors='coerce')\n",
        "var_ind_2022['TimeStamp'] = pd.to_datetime(var_ind_2022['TimeStamp'])\n",
        "print(C7_2022.head())\n",
        "print(var_ind_2022.head())\n"
      ],
      "metadata": {
        "colab": {
          "base_uri": "https://localhost:8080/"
        },
        "id": "p7dfWVOCiDZw",
        "outputId": "f0e87166-0d76-4fda-84ea-675a185880f7"
      },
      "execution_count": 6,
      "outputs": [
        {
          "output_type": "stream",
          "name": "stdout",
          "text": [
            "        Fecha      Hora  Contenido_C7_Total  \\\n",
            "0  2017-11-13  07:55:00                1.58   \n",
            "1  2017-11-14  07:00:00                0.87   \n",
            "2  2017-11-16  07:00:00                1.29   \n",
            "3  2017-11-17  07:00:00                1.90   \n",
            "4  2017-11-19  07:00:00                0.68   \n",
            "\n",
            "                              archivo  \n",
            "0   CARGA_ISOM_CAB_2102E-2017-11.xlsx  \n",
            "1   CARGA_ISOM_CAB_2102E-2017-11.xlsx  \n",
            "2   CARGA_ISOM_CAB_2102E-2017-11.xlsx  \n",
            "3  CARGA_ISOM_CAB_2102E-2017-11 .xlsx  \n",
            "4   CARGA_ISOM_CAB_2102E-2017-11.xlsx  \n",
            "            TimeStamp  tdc_phd.pi_21030  tdc_phd.pic_21034  tdc_phd.pi_21035  \\\n",
            "0 2017-01-01 00:00:00           0.81798            0.83386           0.90135   \n",
            "1 2017-01-01 00:01:00           0.81787            0.83426           0.90164   \n",
            "2 2017-01-01 00:02:00           0.81777            0.83466           0.90194   \n",
            "3 2017-01-01 00:03:00           0.81767            0.83505           0.90223   \n",
            "4 2017-01-01 00:04:00           0.81756            0.83545           0.90252   \n",
            "\n",
            "   tdc_phd.ti_21046  tdc_phd.tic_21047  tdc_phd.ti_21048  tdc_phd.ti_21050  \\\n",
            "0         103.90004           75.04008          46.70211         146.76971   \n",
            "1         103.91216           75.02803          46.88399         146.77429   \n",
            "2         103.94854           74.91962          46.88803         146.74072   \n",
            "3         103.92429           74.96780          47.01734         146.72623   \n",
            "4         103.90004           74.90757          46.37471         146.66138   \n",
            "\n",
            "   tdc_phd.ti_21049  tdc_phd.tic_21051  ...  TDC_PHD.TI_21004  \\\n",
            "0         132.51801          132.49586  ...          44.00858   \n",
            "1         132.48425          132.49016  ...          44.02072   \n",
            "2         132.49435          132.50106  ...          44.05714   \n",
            "3         132.52945          132.52774  ...          44.05714   \n",
            "4         132.51686          132.54243  ...          44.05714   \n",
            "\n",
            "   TDC_PHD.FI_21008  TDC_PHD.TI_21029  TDC_PHD.PIC_22059  TDC_PHD.FI_21012  \\\n",
            "0         702.40079          30.14833           20.51065         561.60631   \n",
            "1         704.21851          30.14833           20.51307         578.76511   \n",
            "2         706.33156          30.19741           20.51549         640.46071   \n",
            "3         699.79398          30.24648           20.51791         650.21806   \n",
            "4         698.91084          30.22195           20.52094         648.90002   \n",
            "\n",
            "   TDC_PHD.TI_21036  TDC_PHD.PIC_21026  TDC_PHD.TI_21054  TDC_PHD.TI_22001  \\\n",
            "0          56.15091            9.76864          26.25174         142.71394   \n",
            "1          56.16299            9.76133          26.26406         142.72628   \n",
            "2          56.18714            9.73651          26.26406         142.80038   \n",
            "3          56.42866            9.70260          26.28869         142.80038   \n",
            "4          56.75467            9.69524          26.31332         142.80038   \n",
            "\n",
            "   TDC_PHD.TI_24001  \n",
            "0          49.99722  \n",
            "1          50.02143  \n",
            "2          50.02143  \n",
            "3          50.02143  \n",
            "4          50.02143  \n",
            "\n",
            "[5 rows x 34 columns]\n"
          ]
        }
      ]
    },
    {
      "cell_type": "code",
      "source": [
        "C7_2022['Fecha_Hora'] = pd.to_datetime(C7_2022['Fecha'] + ' ' + C7_2022['Hora'])\n",
        "print(C7_2022.info())\n"
      ],
      "metadata": {
        "colab": {
          "base_uri": "https://localhost:8080/"
        },
        "id": "7QWw8FMliR5w",
        "outputId": "f2d9f01d-5cf8-42be-b152-c3570aabda73"
      },
      "execution_count": 7,
      "outputs": [
        {
          "output_type": "stream",
          "name": "stdout",
          "text": [
            "<class 'pandas.core.frame.DataFrame'>\n",
            "RangeIndex: 1049 entries, 0 to 1048\n",
            "Data columns (total 5 columns):\n",
            " #   Column              Non-Null Count  Dtype         \n",
            "---  ------              --------------  -----         \n",
            " 0   Fecha               1049 non-null   object        \n",
            " 1   Hora                1049 non-null   object        \n",
            " 2   Contenido_C7_Total  1048 non-null   float64       \n",
            " 3   archivo             1049 non-null   object        \n",
            " 4   Fecha_Hora          1049 non-null   datetime64[ns]\n",
            "dtypes: datetime64[ns](1), float64(1), object(3)\n",
            "memory usage: 41.1+ KB\n",
            "None\n"
          ]
        }
      ]
    },
    {
      "cell_type": "code",
      "source": [
        "C7_2022.dropna(inplace=True)\n",
        "var_ind_2022.dropna(inplace=True)"
      ],
      "metadata": {
        "id": "f-98CUC0cmmu"
      },
      "execution_count": 24,
      "outputs": []
    },
    {
      "cell_type": "code",
      "source": [
        "var_ind_2022['indice'] = np.arange(var_ind_2022.shape[0])\n",
        "\n",
        "dfXinterval_clean = []\n",
        "\n",
        "for i in range(len(C7_2022)):\n",
        "    mask = var_ind_2022['TimeStamp'] == C7_2022.iloc[i,4]\n",
        "    ind = var_ind_2022.loc[mask]['indice']\n",
        "    matriz_vars_tiempo = pd.DataFrame()\n",
        "    for j in range(360):\n",
        "        #print(\"indice>\" +str(ind))\n",
        "        #print(\"j>\"+str(j))\n",
        "        fila = var_ind_2022.iloc[ind-j,1:-1]\n",
        "        #print(fila)\n",
        "        matriz_vars_tiempo = matriz_vars_tiempo.append(fila, ignore_index = True)\n",
        "    dfXinterval_clean.append(matriz_vars_tiempo)"
      ],
      "metadata": {
        "id": "vwi4z3QaiXqG"
      },
      "execution_count": 25,
      "outputs": []
    },
    {
      "cell_type": "code",
      "source": [
        "list_indep = []\n",
        "\n",
        "for i in range(len(C7_2022)):\n",
        "    mediana = dfXinterval_clean[i].describe().iloc[5,].values\n",
        "    list_indep.append(mediana)\n"
      ],
      "metadata": {
        "id": "Dej57AV7kHZ8"
      },
      "execution_count": 26,
      "outputs": []
    },
    {
      "cell_type": "code",
      "source": [
        "list_indep[0:3]"
      ],
      "metadata": {
        "id": "W-ZaZi1KkrbC",
        "colab": {
          "base_uri": "https://localhost:8080/"
        },
        "outputId": "b8f4779a-9af9-4efd-d41c-9ef0f2572dae"
      },
      "execution_count": 27,
      "outputs": [
        {
          "output_type": "execute_result",
          "data": {
            "text/plain": [
              "[array([  0.82295 ,   0.82834 ,   0.85039 ,  99.53842 ,  74.10052 ,\n",
              "         39.09554 , 146.65527 , 133.9634  , 133.9607  , 142.35582 ,\n",
              "         70.538655,  70.000155,  35.00312 ,  21.00262 ,   2.97143 ,\n",
              "         40.01533 ,   7.86349 ,   0.72959 ,   4.51    ,  17.69    ,\n",
              "          0.75569 ,   0.67096 ,  70.001465,  21.74582 , 452.574435,\n",
              "         19.29203 ,  20.500545, 202.68887 ,  26.80579 ,  10.900415,\n",
              "         20.87912 , 140.97337 ,  42.186225]),\n",
              " array([  0.818255,   0.828735,   0.837565, 102.34844 ,  72.366   ,\n",
              "         31.7667  , 151.701355, 134.49783 , 134.492235, 145.12355 ,\n",
              "         69.96511 ,  70.21297 ,  23.93411 ,  16.99944 ,   3.111825,\n",
              "         39.966065,  11.61508 ,   0.      ,   0.      ,   0.      ,\n",
              "          0.      ,   0.      ,  69.90878 ,  24.09409 , 453.09631 ,\n",
              "         20.23472 ,  20.2977  , 175.96255 ,  23.15551 ,  10.84521 ,\n",
              "         23.94596 , 143.8875  ,  35.28984 ]),\n",
              " array([8.21700000e-01, 8.33630000e-01, 8.51885000e-01, 1.04282020e+02,\n",
              "        7.58351100e+01, 3.42098300e+01, 1.50374030e+02, 1.33890080e+02,\n",
              "        1.33893775e+02, 1.46558330e+02, 6.80533650e+01, 7.50385750e+01,\n",
              "        3.99883200e+01, 1.64504400e+01, 1.76600000e-01, 4.00088400e+01,\n",
              "        8.71354500e+00, 7.42810000e-01, 0.00000000e+00, 0.00000000e+00,\n",
              "        7.63515000e-01, 6.75920000e-01, 6.59981600e+01, 2.07397450e+01,\n",
              "        4.30011735e+02, 1.81991700e+01, 2.04975700e+01, 2.15746375e+02,\n",
              "        3.30921550e+01, 9.76646500e+00, 1.89677350e+01, 1.44819105e+02,\n",
              "        3.77794000e+01])]"
            ]
          },
          "metadata": {},
          "execution_count": 27
        }
      ]
    },
    {
      "cell_type": "code",
      "source": [
        "type(list_indep) \n",
        "\n",
        "array_indep = np.array(list_indep)"
      ],
      "metadata": {
        "id": "RjoUIjSmknNc"
      },
      "execution_count": 28,
      "outputs": []
    },
    {
      "cell_type": "code",
      "source": [
        "array_indep.shape"
      ],
      "metadata": {
        "colab": {
          "base_uri": "https://localhost:8080/"
        },
        "id": "Y0FX9JuUk2he",
        "outputId": "bca0a277-c4d4-4a32-b577-30672d8792af"
      },
      "execution_count": 29,
      "outputs": [
        {
          "output_type": "execute_result",
          "data": {
            "text/plain": [
              "(1048, 33)"
            ]
          },
          "metadata": {},
          "execution_count": 29
        }
      ]
    },
    {
      "cell_type": "code",
      "source": [
        "C7_total = C7_2022['Contenido_C7_Total']\n",
        "type(C7_total)\n"
      ],
      "metadata": {
        "colab": {
          "base_uri": "https://localhost:8080/"
        },
        "id": "ZgHtGQgEk5c-",
        "outputId": "57914a3c-719e-48ef-a6ae-62dbb33714d5"
      },
      "execution_count": 30,
      "outputs": [
        {
          "output_type": "execute_result",
          "data": {
            "text/plain": [
              "pandas.core.series.Series"
            ]
          },
          "metadata": {},
          "execution_count": 30
        }
      ]
    },
    {
      "cell_type": "code",
      "source": [
        "C7_array = np.array(C7_total)\n",
        "C7_array.shape\n"
      ],
      "metadata": {
        "colab": {
          "base_uri": "https://localhost:8080/"
        },
        "id": "TR6MOXeJlCVV",
        "outputId": "eb3917f1-aeb3-4739-a893-e98788ad1415"
      },
      "execution_count": 31,
      "outputs": [
        {
          "output_type": "execute_result",
          "data": {
            "text/plain": [
              "(1048,)"
            ]
          },
          "metadata": {},
          "execution_count": 31
        }
      ]
    },
    {
      "cell_type": "code",
      "source": [
        "C7_array = np.reshape(C7_array, (1048,1))\n"
      ],
      "metadata": {
        "id": "-T06s5UJlGHb"
      },
      "execution_count": 33,
      "outputs": []
    },
    {
      "cell_type": "code",
      "source": [
        "C7_array.shape"
      ],
      "metadata": {
        "colab": {
          "base_uri": "https://localhost:8080/"
        },
        "id": "UR62VGaLlJQl",
        "outputId": "7cfb8fe0-b4dd-40e7-9078-ac5e0d01928c"
      },
      "execution_count": 34,
      "outputs": [
        {
          "output_type": "execute_result",
          "data": {
            "text/plain": [
              "(1048, 1)"
            ]
          },
          "metadata": {},
          "execution_count": 34
        }
      ]
    },
    {
      "cell_type": "code",
      "source": [
        "X_train, X_test, y_train, y_test = train_test_split(array_indep, C7_array, test_size=0.2, random_state=42)\n"
      ],
      "metadata": {
        "id": "0mju9hoXlNqi"
      },
      "execution_count": 35,
      "outputs": []
    },
    {
      "cell_type": "code",
      "source": [
        "print(X_train.shape)\n",
        "print(y_train.shape)\n"
      ],
      "metadata": {
        "colab": {
          "base_uri": "https://localhost:8080/"
        },
        "id": "EDifiMMulwau",
        "outputId": "5ce80084-4529-4829-9790-37d5d7ffb214"
      },
      "execution_count": 36,
      "outputs": [
        {
          "output_type": "stream",
          "name": "stdout",
          "text": [
            "(838, 33)\n",
            "(838, 1)\n"
          ]
        }
      ]
    },
    {
      "cell_type": "code",
      "source": [
        "XY_scaler = MinMaxScaler()\n",
        "X_data_train = XY_scaler.fit_transform(X_train)\n",
        "Y_data_train = XY_scaler.fit_transform(y_train)\n",
        "\n",
        "X_data_test = XY_scaler.fit_transform(X_test)\n",
        "Y_data_test = XY_scaler.fit_transform(y_test)\n",
        "\n"
      ],
      "metadata": {
        "id": "BUiaknWPl5z2"
      },
      "execution_count": 37,
      "outputs": []
    },
    {
      "cell_type": "code",
      "source": [
        "print(type(X_data_test))\n",
        "print(Y_data_test.shape)\n"
      ],
      "metadata": {
        "colab": {
          "base_uri": "https://localhost:8080/"
        },
        "id": "9PT1G977mIc0",
        "outputId": "a8568d78-f788-41c9-8e8e-b69b2042b7b1"
      },
      "execution_count": 38,
      "outputs": [
        {
          "output_type": "stream",
          "name": "stdout",
          "text": [
            "<class 'numpy.ndarray'>\n",
            "(210, 1)\n"
          ]
        }
      ]
    },
    {
      "cell_type": "code",
      "source": [
        "# create a sequential model\n",
        "model = models.Sequential()\n",
        "\n",
        "# add the hidden layer\n",
        "model.add(layers.Dense(input_dim=33,\n",
        "                       units=64, \n",
        "                       activation='relu'))\n",
        "\n",
        "\n",
        "model.add(layers.Dense(input_dim=64,\n",
        "                       units=32,\n",
        "                       activation='relu'))\n",
        "model.add(layers.Dropout(0.2))\n",
        "\n",
        "# add the output layer\n",
        "model.add(layers.Dense(input_dim=32,\n",
        "                       units=1,\n",
        "                       activation='linear'))\n",
        "\n",
        "# define our loss function and optimizer\n",
        "model.compile(loss='mean_squared_error',\n",
        "              # Adam is a kind of gradient descent\n",
        "              optimizer='adam')\n",
        "\n",
        "#optimizers.Adam(lr=0.01)"
      ],
      "metadata": {
        "id": "jGeLWe1hmQsE"
      },
      "execution_count": 39,
      "outputs": []
    },
    {
      "cell_type": "code",
      "source": [
        "model.summary()"
      ],
      "metadata": {
        "colab": {
          "base_uri": "https://localhost:8080/"
        },
        "id": "cDDiXtwhmZ3N",
        "outputId": "7f4a1d3c-35d5-41bb-c46b-c5213109aa14"
      },
      "execution_count": 40,
      "outputs": [
        {
          "output_type": "stream",
          "name": "stdout",
          "text": [
            "Model: \"sequential_1\"\n",
            "_________________________________________________________________\n",
            " Layer (type)                Output Shape              Param #   \n",
            "=================================================================\n",
            " dense_3 (Dense)             (None, 64)                2176      \n",
            "                                                                 \n",
            " dense_4 (Dense)             (None, 32)                2080      \n",
            "                                                                 \n",
            " dropout_1 (Dropout)         (None, 32)                0         \n",
            "                                                                 \n",
            " dense_5 (Dense)             (None, 1)                 33        \n",
            "                                                                 \n",
            "=================================================================\n",
            "Total params: 4,289\n",
            "Trainable params: 4,289\n",
            "Non-trainable params: 0\n",
            "_________________________________________________________________\n"
          ]
        }
      ]
    },
    {
      "cell_type": "code",
      "source": [
        "model.fit(X_data_train, Y_data_train, epochs=200, batch_size=20)"
      ],
      "metadata": {
        "colab": {
          "base_uri": "https://localhost:8080/"
        },
        "id": "Lq9PAe_hmgkL",
        "outputId": "1b3bfdf5-278d-493a-a3d0-76a0eb046ed7"
      },
      "execution_count": 41,
      "outputs": [
        {
          "output_type": "stream",
          "name": "stdout",
          "text": [
            "Epoch 1/200\n",
            "42/42 [==============================] - 1s 2ms/step - loss: 0.0195\n",
            "Epoch 2/200\n",
            "42/42 [==============================] - 0s 2ms/step - loss: 0.0082\n",
            "Epoch 3/200\n",
            "42/42 [==============================] - 0s 2ms/step - loss: 0.0061\n",
            "Epoch 4/200\n",
            "42/42 [==============================] - 0s 2ms/step - loss: 0.0055\n",
            "Epoch 5/200\n",
            "42/42 [==============================] - 0s 2ms/step - loss: 0.0048\n",
            "Epoch 6/200\n",
            "42/42 [==============================] - 0s 2ms/step - loss: 0.0047\n",
            "Epoch 7/200\n",
            "42/42 [==============================] - 0s 2ms/step - loss: 0.0049\n",
            "Epoch 8/200\n",
            "42/42 [==============================] - 0s 3ms/step - loss: 0.0049\n",
            "Epoch 9/200\n",
            "42/42 [==============================] - 0s 3ms/step - loss: 0.0043\n",
            "Epoch 10/200\n",
            "42/42 [==============================] - 0s 3ms/step - loss: 0.0037\n",
            "Epoch 11/200\n",
            "42/42 [==============================] - 0s 3ms/step - loss: 0.0035\n",
            "Epoch 12/200\n",
            "42/42 [==============================] - 0s 3ms/step - loss: 0.0040\n",
            "Epoch 13/200\n",
            "42/42 [==============================] - 0s 3ms/step - loss: 0.0035\n",
            "Epoch 14/200\n",
            "42/42 [==============================] - 0s 3ms/step - loss: 0.0035\n",
            "Epoch 15/200\n",
            "42/42 [==============================] - 0s 3ms/step - loss: 0.0029\n",
            "Epoch 16/200\n",
            "42/42 [==============================] - 0s 2ms/step - loss: 0.0029\n",
            "Epoch 17/200\n",
            "42/42 [==============================] - 0s 2ms/step - loss: 0.0034\n",
            "Epoch 18/200\n",
            "42/42 [==============================] - 0s 2ms/step - loss: 0.0029\n",
            "Epoch 19/200\n",
            "42/42 [==============================] - 0s 2ms/step - loss: 0.0030\n",
            "Epoch 20/200\n",
            "42/42 [==============================] - 0s 2ms/step - loss: 0.0027\n",
            "Epoch 21/200\n",
            "42/42 [==============================] - 0s 3ms/step - loss: 0.0028\n",
            "Epoch 22/200\n",
            "42/42 [==============================] - 0s 3ms/step - loss: 0.0031\n",
            "Epoch 23/200\n",
            "42/42 [==============================] - 0s 2ms/step - loss: 0.0029\n",
            "Epoch 24/200\n",
            "42/42 [==============================] - 0s 2ms/step - loss: 0.0028\n",
            "Epoch 25/200\n",
            "42/42 [==============================] - 0s 2ms/step - loss: 0.0030\n",
            "Epoch 26/200\n",
            "42/42 [==============================] - 0s 3ms/step - loss: 0.0031\n",
            "Epoch 27/200\n",
            "42/42 [==============================] - 0s 2ms/step - loss: 0.0030\n",
            "Epoch 28/200\n",
            "42/42 [==============================] - 0s 2ms/step - loss: 0.0032\n",
            "Epoch 29/200\n",
            "42/42 [==============================] - 0s 2ms/step - loss: 0.0031\n",
            "Epoch 30/200\n",
            "42/42 [==============================] - 0s 3ms/step - loss: 0.0031\n",
            "Epoch 31/200\n",
            "42/42 [==============================] - 0s 3ms/step - loss: 0.0032\n",
            "Epoch 32/200\n",
            "42/42 [==============================] - 0s 2ms/step - loss: 0.0026\n",
            "Epoch 33/200\n",
            "42/42 [==============================] - 0s 3ms/step - loss: 0.0026\n",
            "Epoch 34/200\n",
            "42/42 [==============================] - 0s 2ms/step - loss: 0.0028\n",
            "Epoch 35/200\n",
            "42/42 [==============================] - 0s 3ms/step - loss: 0.0031\n",
            "Epoch 36/200\n",
            "42/42 [==============================] - 0s 3ms/step - loss: 0.0028\n",
            "Epoch 37/200\n",
            "42/42 [==============================] - 0s 2ms/step - loss: 0.0027\n",
            "Epoch 38/200\n",
            "42/42 [==============================] - 0s 2ms/step - loss: 0.0028\n",
            "Epoch 39/200\n",
            "42/42 [==============================] - 0s 3ms/step - loss: 0.0028\n",
            "Epoch 40/200\n",
            "42/42 [==============================] - 0s 3ms/step - loss: 0.0027\n",
            "Epoch 41/200\n",
            "42/42 [==============================] - 0s 3ms/step - loss: 0.0026\n",
            "Epoch 42/200\n",
            "42/42 [==============================] - 0s 3ms/step - loss: 0.0025\n",
            "Epoch 43/200\n",
            "42/42 [==============================] - 0s 3ms/step - loss: 0.0026\n",
            "Epoch 44/200\n",
            "42/42 [==============================] - 0s 3ms/step - loss: 0.0027\n",
            "Epoch 45/200\n",
            "42/42 [==============================] - 0s 2ms/step - loss: 0.0025\n",
            "Epoch 46/200\n",
            "42/42 [==============================] - 0s 2ms/step - loss: 0.0027\n",
            "Epoch 47/200\n",
            "42/42 [==============================] - 0s 2ms/step - loss: 0.0026\n",
            "Epoch 48/200\n",
            "42/42 [==============================] - 0s 3ms/step - loss: 0.0025\n",
            "Epoch 49/200\n",
            "42/42 [==============================] - 0s 3ms/step - loss: 0.0027\n",
            "Epoch 50/200\n",
            "42/42 [==============================] - 0s 2ms/step - loss: 0.0027\n",
            "Epoch 51/200\n",
            "42/42 [==============================] - 0s 2ms/step - loss: 0.0025\n",
            "Epoch 52/200\n",
            "42/42 [==============================] - 0s 2ms/step - loss: 0.0026\n",
            "Epoch 53/200\n",
            "42/42 [==============================] - 0s 3ms/step - loss: 0.0026\n",
            "Epoch 54/200\n",
            "42/42 [==============================] - 0s 3ms/step - loss: 0.0023\n",
            "Epoch 55/200\n",
            "42/42 [==============================] - 0s 3ms/step - loss: 0.0024\n",
            "Epoch 56/200\n",
            "42/42 [==============================] - 0s 3ms/step - loss: 0.0023\n",
            "Epoch 57/200\n",
            "42/42 [==============================] - 0s 3ms/step - loss: 0.0025\n",
            "Epoch 58/200\n",
            "42/42 [==============================] - 0s 3ms/step - loss: 0.0025\n",
            "Epoch 59/200\n",
            "42/42 [==============================] - 0s 2ms/step - loss: 0.0025\n",
            "Epoch 60/200\n",
            "42/42 [==============================] - 0s 3ms/step - loss: 0.0026\n",
            "Epoch 61/200\n",
            "42/42 [==============================] - 0s 3ms/step - loss: 0.0024\n",
            "Epoch 62/200\n",
            "42/42 [==============================] - 0s 3ms/step - loss: 0.0027\n",
            "Epoch 63/200\n",
            "42/42 [==============================] - 0s 4ms/step - loss: 0.0026\n",
            "Epoch 64/200\n",
            "42/42 [==============================] - 0s 4ms/step - loss: 0.0025\n",
            "Epoch 65/200\n",
            "42/42 [==============================] - 0s 4ms/step - loss: 0.0023\n",
            "Epoch 66/200\n",
            "42/42 [==============================] - 0s 4ms/step - loss: 0.0026\n",
            "Epoch 67/200\n",
            "42/42 [==============================] - 0s 4ms/step - loss: 0.0025\n",
            "Epoch 68/200\n",
            "42/42 [==============================] - 0s 4ms/step - loss: 0.0022\n",
            "Epoch 69/200\n",
            "42/42 [==============================] - 0s 5ms/step - loss: 0.0027\n",
            "Epoch 70/200\n",
            "42/42 [==============================] - 0s 4ms/step - loss: 0.0026\n",
            "Epoch 71/200\n",
            "42/42 [==============================] - 0s 4ms/step - loss: 0.0028\n",
            "Epoch 72/200\n",
            "42/42 [==============================] - 0s 4ms/step - loss: 0.0027\n",
            "Epoch 73/200\n",
            "42/42 [==============================] - 0s 4ms/step - loss: 0.0024\n",
            "Epoch 74/200\n",
            "42/42 [==============================] - 0s 4ms/step - loss: 0.0028\n",
            "Epoch 75/200\n",
            "42/42 [==============================] - 0s 4ms/step - loss: 0.0025\n",
            "Epoch 76/200\n",
            "42/42 [==============================] - 0s 4ms/step - loss: 0.0024\n",
            "Epoch 77/200\n",
            "42/42 [==============================] - 0s 4ms/step - loss: 0.0022\n",
            "Epoch 78/200\n",
            "42/42 [==============================] - 0s 4ms/step - loss: 0.0024\n",
            "Epoch 79/200\n",
            "42/42 [==============================] - 0s 4ms/step - loss: 0.0025\n",
            "Epoch 80/200\n",
            "42/42 [==============================] - 0s 4ms/step - loss: 0.0026\n",
            "Epoch 81/200\n",
            "42/42 [==============================] - 0s 4ms/step - loss: 0.0027\n",
            "Epoch 82/200\n",
            "42/42 [==============================] - 0s 4ms/step - loss: 0.0029\n",
            "Epoch 83/200\n",
            "42/42 [==============================] - 0s 4ms/step - loss: 0.0030\n",
            "Epoch 84/200\n",
            "42/42 [==============================] - 0s 4ms/step - loss: 0.0024\n",
            "Epoch 85/200\n",
            "42/42 [==============================] - 0s 3ms/step - loss: 0.0024\n",
            "Epoch 86/200\n",
            "42/42 [==============================] - 0s 3ms/step - loss: 0.0024\n",
            "Epoch 87/200\n",
            "42/42 [==============================] - 0s 4ms/step - loss: 0.0021\n",
            "Epoch 88/200\n",
            "42/42 [==============================] - 0s 4ms/step - loss: 0.0026\n",
            "Epoch 89/200\n",
            "42/42 [==============================] - 0s 4ms/step - loss: 0.0022\n",
            "Epoch 90/200\n",
            "42/42 [==============================] - 0s 4ms/step - loss: 0.0026\n",
            "Epoch 91/200\n",
            "42/42 [==============================] - 0s 3ms/step - loss: 0.0023\n",
            "Epoch 92/200\n",
            "42/42 [==============================] - 0s 3ms/step - loss: 0.0023\n",
            "Epoch 93/200\n",
            "42/42 [==============================] - 0s 3ms/step - loss: 0.0023\n",
            "Epoch 94/200\n",
            "42/42 [==============================] - 0s 3ms/step - loss: 0.0023\n",
            "Epoch 95/200\n",
            "42/42 [==============================] - 0s 3ms/step - loss: 0.0029\n",
            "Epoch 96/200\n",
            "42/42 [==============================] - 0s 3ms/step - loss: 0.0024\n",
            "Epoch 97/200\n",
            "42/42 [==============================] - 0s 3ms/step - loss: 0.0022\n",
            "Epoch 98/200\n",
            "42/42 [==============================] - 0s 2ms/step - loss: 0.0022\n",
            "Epoch 99/200\n",
            "42/42 [==============================] - 0s 2ms/step - loss: 0.0023\n",
            "Epoch 100/200\n",
            "42/42 [==============================] - 0s 2ms/step - loss: 0.0023\n",
            "Epoch 101/200\n",
            "42/42 [==============================] - 0s 2ms/step - loss: 0.0026\n",
            "Epoch 102/200\n",
            "42/42 [==============================] - 0s 3ms/step - loss: 0.0026\n",
            "Epoch 103/200\n",
            "42/42 [==============================] - 0s 2ms/step - loss: 0.0023\n",
            "Epoch 104/200\n",
            "42/42 [==============================] - 0s 3ms/step - loss: 0.0023\n",
            "Epoch 105/200\n",
            "42/42 [==============================] - 0s 2ms/step - loss: 0.0029\n",
            "Epoch 106/200\n",
            "42/42 [==============================] - 0s 3ms/step - loss: 0.0024\n",
            "Epoch 107/200\n",
            "42/42 [==============================] - 0s 2ms/step - loss: 0.0027\n",
            "Epoch 108/200\n",
            "42/42 [==============================] - 0s 2ms/step - loss: 0.0023\n",
            "Epoch 109/200\n",
            "42/42 [==============================] - 0s 2ms/step - loss: 0.0027\n",
            "Epoch 110/200\n",
            "42/42 [==============================] - 0s 2ms/step - loss: 0.0022\n",
            "Epoch 111/200\n",
            "42/42 [==============================] - 0s 2ms/step - loss: 0.0020\n",
            "Epoch 112/200\n",
            "42/42 [==============================] - 0s 2ms/step - loss: 0.0022\n",
            "Epoch 113/200\n",
            "42/42 [==============================] - 0s 2ms/step - loss: 0.0024\n",
            "Epoch 114/200\n",
            "42/42 [==============================] - 0s 2ms/step - loss: 0.0027\n",
            "Epoch 115/200\n",
            "42/42 [==============================] - 0s 2ms/step - loss: 0.0023\n",
            "Epoch 116/200\n",
            "42/42 [==============================] - 0s 3ms/step - loss: 0.0023\n",
            "Epoch 117/200\n",
            "42/42 [==============================] - 0s 2ms/step - loss: 0.0020\n",
            "Epoch 118/200\n",
            "42/42 [==============================] - 0s 2ms/step - loss: 0.0023\n",
            "Epoch 119/200\n",
            "42/42 [==============================] - 0s 2ms/step - loss: 0.0023\n",
            "Epoch 120/200\n",
            "42/42 [==============================] - 0s 2ms/step - loss: 0.0022\n",
            "Epoch 121/200\n",
            "42/42 [==============================] - 0s 2ms/step - loss: 0.0022\n",
            "Epoch 122/200\n",
            "42/42 [==============================] - 0s 2ms/step - loss: 0.0024\n",
            "Epoch 123/200\n",
            "42/42 [==============================] - 0s 3ms/step - loss: 0.0022\n",
            "Epoch 124/200\n",
            "42/42 [==============================] - 0s 2ms/step - loss: 0.0024\n",
            "Epoch 125/200\n",
            "42/42 [==============================] - 0s 2ms/step - loss: 0.0025\n",
            "Epoch 126/200\n",
            "42/42 [==============================] - 0s 2ms/step - loss: 0.0024\n",
            "Epoch 127/200\n",
            "42/42 [==============================] - 0s 2ms/step - loss: 0.0022\n",
            "Epoch 128/200\n",
            "42/42 [==============================] - 0s 2ms/step - loss: 0.0024\n",
            "Epoch 129/200\n",
            "42/42 [==============================] - 0s 3ms/step - loss: 0.0021\n",
            "Epoch 130/200\n",
            "42/42 [==============================] - 0s 2ms/step - loss: 0.0021\n",
            "Epoch 131/200\n",
            "42/42 [==============================] - 0s 2ms/step - loss: 0.0020\n",
            "Epoch 132/200\n",
            "42/42 [==============================] - 0s 3ms/step - loss: 0.0020\n",
            "Epoch 133/200\n",
            "42/42 [==============================] - 0s 2ms/step - loss: 0.0023\n",
            "Epoch 134/200\n",
            "42/42 [==============================] - 0s 3ms/step - loss: 0.0022\n",
            "Epoch 135/200\n",
            "42/42 [==============================] - 0s 3ms/step - loss: 0.0021\n",
            "Epoch 136/200\n",
            "42/42 [==============================] - 0s 3ms/step - loss: 0.0021\n",
            "Epoch 137/200\n",
            "42/42 [==============================] - 0s 3ms/step - loss: 0.0022\n",
            "Epoch 138/200\n",
            "42/42 [==============================] - 0s 2ms/step - loss: 0.0024\n",
            "Epoch 139/200\n",
            "42/42 [==============================] - 0s 3ms/step - loss: 0.0023\n",
            "Epoch 140/200\n",
            "42/42 [==============================] - 0s 3ms/step - loss: 0.0023\n",
            "Epoch 141/200\n",
            "42/42 [==============================] - 0s 2ms/step - loss: 0.0021\n",
            "Epoch 142/200\n",
            "42/42 [==============================] - 0s 3ms/step - loss: 0.0021\n",
            "Epoch 143/200\n",
            "42/42 [==============================] - 0s 2ms/step - loss: 0.0023\n",
            "Epoch 144/200\n",
            "42/42 [==============================] - 0s 3ms/step - loss: 0.0023\n",
            "Epoch 145/200\n",
            "42/42 [==============================] - 0s 2ms/step - loss: 0.0021\n",
            "Epoch 146/200\n",
            "42/42 [==============================] - 0s 2ms/step - loss: 0.0022\n",
            "Epoch 147/200\n",
            "42/42 [==============================] - 0s 2ms/step - loss: 0.0020\n",
            "Epoch 148/200\n",
            "42/42 [==============================] - 0s 2ms/step - loss: 0.0020\n",
            "Epoch 149/200\n",
            "42/42 [==============================] - 0s 2ms/step - loss: 0.0019\n",
            "Epoch 150/200\n",
            "42/42 [==============================] - 0s 2ms/step - loss: 0.0021\n",
            "Epoch 151/200\n",
            "42/42 [==============================] - 0s 2ms/step - loss: 0.0022\n",
            "Epoch 152/200\n",
            "42/42 [==============================] - 0s 3ms/step - loss: 0.0023\n",
            "Epoch 153/200\n",
            "42/42 [==============================] - 0s 3ms/step - loss: 0.0024\n",
            "Epoch 154/200\n",
            "42/42 [==============================] - 0s 3ms/step - loss: 0.0024\n",
            "Epoch 155/200\n",
            "42/42 [==============================] - 0s 3ms/step - loss: 0.0022\n",
            "Epoch 156/200\n",
            "42/42 [==============================] - 0s 3ms/step - loss: 0.0021\n",
            "Epoch 157/200\n",
            "42/42 [==============================] - 0s 3ms/step - loss: 0.0019\n",
            "Epoch 158/200\n",
            "42/42 [==============================] - 0s 3ms/step - loss: 0.0019\n",
            "Epoch 159/200\n",
            "42/42 [==============================] - 0s 3ms/step - loss: 0.0020\n",
            "Epoch 160/200\n",
            "42/42 [==============================] - 0s 2ms/step - loss: 0.0018\n",
            "Epoch 161/200\n",
            "42/42 [==============================] - 0s 3ms/step - loss: 0.0024\n",
            "Epoch 162/200\n",
            "42/42 [==============================] - 0s 2ms/step - loss: 0.0022\n",
            "Epoch 163/200\n",
            "42/42 [==============================] - 0s 2ms/step - loss: 0.0018\n",
            "Epoch 164/200\n",
            "42/42 [==============================] - 0s 2ms/step - loss: 0.0018\n",
            "Epoch 165/200\n",
            "42/42 [==============================] - 0s 2ms/step - loss: 0.0021\n",
            "Epoch 166/200\n",
            "42/42 [==============================] - 0s 3ms/step - loss: 0.0020\n",
            "Epoch 167/200\n",
            "42/42 [==============================] - 0s 4ms/step - loss: 0.0020\n",
            "Epoch 168/200\n",
            "42/42 [==============================] - 0s 4ms/step - loss: 0.0027\n",
            "Epoch 169/200\n",
            "42/42 [==============================] - 0s 4ms/step - loss: 0.0021\n",
            "Epoch 170/200\n",
            "42/42 [==============================] - 0s 3ms/step - loss: 0.0021\n",
            "Epoch 171/200\n",
            "42/42 [==============================] - 0s 3ms/step - loss: 0.0018\n",
            "Epoch 172/200\n",
            "42/42 [==============================] - 0s 3ms/step - loss: 0.0020\n",
            "Epoch 173/200\n",
            "42/42 [==============================] - 0s 3ms/step - loss: 0.0020\n",
            "Epoch 174/200\n",
            "42/42 [==============================] - 0s 3ms/step - loss: 0.0023\n",
            "Epoch 175/200\n",
            "42/42 [==============================] - 0s 3ms/step - loss: 0.0023\n",
            "Epoch 176/200\n",
            "42/42 [==============================] - 0s 3ms/step - loss: 0.0019\n",
            "Epoch 177/200\n",
            "42/42 [==============================] - 0s 3ms/step - loss: 0.0019\n",
            "Epoch 178/200\n",
            "42/42 [==============================] - 0s 3ms/step - loss: 0.0018\n",
            "Epoch 179/200\n",
            "42/42 [==============================] - 0s 3ms/step - loss: 0.0019\n",
            "Epoch 180/200\n",
            "42/42 [==============================] - 0s 3ms/step - loss: 0.0020\n",
            "Epoch 181/200\n",
            "42/42 [==============================] - 0s 3ms/step - loss: 0.0019\n",
            "Epoch 182/200\n",
            "42/42 [==============================] - 0s 3ms/step - loss: 0.0018\n",
            "Epoch 183/200\n",
            "42/42 [==============================] - 0s 2ms/step - loss: 0.0021\n",
            "Epoch 184/200\n",
            "42/42 [==============================] - 0s 3ms/step - loss: 0.0022\n",
            "Epoch 185/200\n",
            "42/42 [==============================] - 0s 3ms/step - loss: 0.0018\n",
            "Epoch 186/200\n",
            "42/42 [==============================] - 0s 2ms/step - loss: 0.0017\n",
            "Epoch 187/200\n",
            "42/42 [==============================] - 0s 3ms/step - loss: 0.0024\n",
            "Epoch 188/200\n",
            "42/42 [==============================] - 0s 3ms/step - loss: 0.0025\n",
            "Epoch 189/200\n",
            "42/42 [==============================] - 0s 3ms/step - loss: 0.0022\n",
            "Epoch 190/200\n",
            "42/42 [==============================] - 0s 3ms/step - loss: 0.0022\n",
            "Epoch 191/200\n",
            "42/42 [==============================] - 0s 3ms/step - loss: 0.0020\n",
            "Epoch 192/200\n",
            "42/42 [==============================] - 0s 3ms/step - loss: 0.0023\n",
            "Epoch 193/200\n",
            "42/42 [==============================] - 0s 2ms/step - loss: 0.0021\n",
            "Epoch 194/200\n",
            "42/42 [==============================] - 0s 2ms/step - loss: 0.0018\n",
            "Epoch 195/200\n",
            "42/42 [==============================] - 0s 2ms/step - loss: 0.0019\n",
            "Epoch 196/200\n",
            "42/42 [==============================] - 0s 2ms/step - loss: 0.0018\n",
            "Epoch 197/200\n",
            "42/42 [==============================] - 0s 2ms/step - loss: 0.0021\n",
            "Epoch 198/200\n",
            "42/42 [==============================] - 0s 2ms/step - loss: 0.0019\n",
            "Epoch 199/200\n",
            "42/42 [==============================] - 0s 2ms/step - loss: 0.0018\n",
            "Epoch 200/200\n",
            "42/42 [==============================] - 0s 3ms/step - loss: 0.0021\n"
          ]
        },
        {
          "output_type": "execute_result",
          "data": {
            "text/plain": [
              "<keras.callbacks.History at 0x7fe078926190>"
            ]
          },
          "metadata": {},
          "execution_count": 41
        }
      ]
    },
    {
      "cell_type": "code",
      "source": [
        "ypred = model.predict(X_data_test)\n",
        "print(\"MSE: %.4f\" % mean_squared_error(Y_data_test, ypred))"
      ],
      "metadata": {
        "colab": {
          "base_uri": "https://localhost:8080/"
        },
        "id": "UjH9dGoUmtAA",
        "outputId": "cbafa260-6423-4970-c2f3-f49414964e27"
      },
      "execution_count": 42,
      "outputs": [
        {
          "output_type": "stream",
          "name": "stdout",
          "text": [
            "7/7 [==============================] - 0s 2ms/step\n",
            "MSE: 0.0312\n"
          ]
        }
      ]
    },
    {
      "cell_type": "code",
      "source": [
        "ytest_orig = XY_scaler.inverse_transform(Y_data_test)\n",
        "ypred_orig = XY_scaler.inverse_transform(ypred)"
      ],
      "metadata": {
        "id": "VtbUYRMwmy0e"
      },
      "execution_count": 43,
      "outputs": []
    },
    {
      "cell_type": "code",
      "source": [
        "print(\"MSE sin escalar: %.4f\" % mean_squared_error(ytest_orig, ypred_orig))"
      ],
      "metadata": {
        "colab": {
          "base_uri": "https://localhost:8080/"
        },
        "id": "YdIrTt8Ym2te",
        "outputId": "5d6ba877-3686-4b30-d5ee-89b4b305c8a5"
      },
      "execution_count": 44,
      "outputs": [
        {
          "output_type": "stream",
          "name": "stdout",
          "text": [
            "MSE sin escalar: 1.0556\n"
          ]
        }
      ]
    },
    {
      "cell_type": "code",
      "source": [
        "# Esto hay que revisarlo\n",
        "#print(sum(((ytest_orig-ypred_orig)/ypred_orig)>0.10))"
      ],
      "metadata": {
        "id": "KmYEEQ68m-2w"
      },
      "execution_count": null,
      "outputs": []
    },
    {
      "cell_type": "code",
      "source": [
        "print(sum((ypred_orig < (ytest_orig + (10*ytest_orig/100))) & ((ytest_orig - (10*ytest_orig/100)) < ypred_orig))) "
      ],
      "metadata": {
        "colab": {
          "base_uri": "https://localhost:8080/"
        },
        "id": "8X47t5sOvI-z",
        "outputId": "d210269c-266a-497e-e533-5cefb83962bf"
      },
      "execution_count": 45,
      "outputs": [
        {
          "output_type": "stream",
          "name": "stdout",
          "text": [
            "[29]\n"
          ]
        }
      ]
    },
    {
      "cell_type": "code",
      "source": [
        "len(ytest_orig) - sum((ypred_orig < (ytest_orig + (10*ytest_orig/100))) & ((ytest_orig - (10*ytest_orig/100)) < ypred_orig))"
      ],
      "metadata": {
        "colab": {
          "base_uri": "https://localhost:8080/"
        },
        "id": "86KGxVCt4iAO",
        "outputId": "22c1ec48-d2cf-4a49-bcef-33217856ed3d"
      },
      "execution_count": 46,
      "outputs": [
        {
          "output_type": "execute_result",
          "data": {
            "text/plain": [
              "array([181])"
            ]
          },
          "metadata": {},
          "execution_count": 46
        }
      ]
    },
    {
      "cell_type": "code",
      "source": [
        "23*100/210"
      ],
      "metadata": {
        "colab": {
          "base_uri": "https://localhost:8080/"
        },
        "id": "L_oVROfGS44f",
        "outputId": "e726e699-a043-41c1-f7fd-929d1411836d"
      },
      "execution_count": 47,
      "outputs": [
        {
          "output_type": "execute_result",
          "data": {
            "text/plain": [
              "10.952380952380953"
            ]
          },
          "metadata": {},
          "execution_count": 47
        }
      ]
    },
    {
      "cell_type": "markdown",
      "source": [
        "En el resultado anterior solo 23 casos estarían dentro del 10%, o sea que la gran mayoría de los casos los valores predichos son un 10% mayor o menor comparado con los valores reals (ytest_orig)"
      ],
      "metadata": {
        "id": "NnWOakaZ48sk"
      }
    },
    {
      "cell_type": "code",
      "source": [
        "x_ax = range(len(ypred))\n",
        "#plt.scatter(x_ax, ytest, s=5, color=\"blue\", label=\"original\")\n",
        "plt.plot(x_ax, Y_data_test, color=\"blue\", label=\"original\")\n",
        "plt.plot(x_ax, ypred, lw=0.8, color=\"red\", label=\"predicted\")\n",
        "plt.legend()\n",
        "plt.show()"
      ],
      "metadata": {
        "colab": {
          "base_uri": "https://localhost:8080/",
          "height": 265
        },
        "id": "wr2nrTQqnIzn",
        "outputId": "66adb65d-a42b-4379-f801-c833ba94c0a9"
      },
      "execution_count": 48,
      "outputs": [
        {
          "output_type": "display_data",
          "data": {
            "text/plain": [
              "<Figure size 432x288 with 1 Axes>"
            ],
            "image/png": "[encoded data removed]"
          },
          "metadata": {
            "needs_background": "light"
          }
        }
      ]
    },
    {
      "cell_type": "code",
      "source": [
        "history = model.fit(X_data_train, Y_data_train, epochs=100, batch_size=10)\n",
        "\n",
        "# evaluate accuracy\n",
        "train_acc = model.evaluate(X_data_train, Y_data_train, batch_size=32)\n",
        "test_acc = model.evaluate(X_data_test, Y_data_test, batch_size=32)\n",
        "print('Training accuracy: %s' % train_acc)\n",
        "print('Testing accuracy: %s' % test_acc)\n"
      ],
      "metadata": {
        "colab": {
          "base_uri": "https://localhost:8080/"
        },
        "id": "cE9YxKw6nSv_",
        "outputId": "bcf75fe9-8fbf-4e3e-b0a6-718ed4187326"
      },
      "execution_count": 49,
      "outputs": [
        {
          "output_type": "stream",
          "name": "stdout",
          "text": [
            "Epoch 1/100\n",
            "84/84 [==============================] - 0s 3ms/step - loss: 0.0025\n",
            "Epoch 2/100\n",
            "84/84 [==============================] - 0s 3ms/step - loss: 0.0028\n",
            "Epoch 3/100\n",
            "84/84 [==============================] - 0s 3ms/step - loss: 0.0023\n",
            "Epoch 4/100\n",
            "84/84 [==============================] - 0s 3ms/step - loss: 0.0023\n",
            "Epoch 5/100\n",
            "84/84 [==============================] - 0s 3ms/step - loss: 0.0026\n",
            "Epoch 6/100\n",
            "84/84 [==============================] - 0s 3ms/step - loss: 0.0024\n",
            "Epoch 7/100\n",
            "84/84 [==============================] - 0s 3ms/step - loss: 0.0025\n",
            "Epoch 8/100\n",
            "84/84 [==============================] - 0s 3ms/step - loss: 0.0025\n",
            "Epoch 9/100\n",
            "84/84 [==============================] - 0s 2ms/step - loss: 0.0025\n",
            "Epoch 10/100\n",
            "84/84 [==============================] - 0s 3ms/step - loss: 0.0022\n",
            "Epoch 11/100\n",
            "84/84 [==============================] - 0s 2ms/step - loss: 0.0024\n",
            "Epoch 12/100\n",
            "84/84 [==============================] - 0s 3ms/step - loss: 0.0023\n",
            "Epoch 13/100\n",
            "84/84 [==============================] - 0s 3ms/step - loss: 0.0030\n",
            "Epoch 14/100\n",
            "84/84 [==============================] - 0s 3ms/step - loss: 0.0022\n",
            "Epoch 15/100\n",
            "84/84 [==============================] - 0s 3ms/step - loss: 0.0022\n",
            "Epoch 16/100\n",
            "84/84 [==============================] - 0s 3ms/step - loss: 0.0022\n",
            "Epoch 17/100\n",
            "84/84 [==============================] - 0s 3ms/step - loss: 0.0022\n",
            "Epoch 18/100\n",
            "84/84 [==============================] - 0s 3ms/step - loss: 0.0024\n",
            "Epoch 19/100\n",
            "84/84 [==============================] - 0s 3ms/step - loss: 0.0022\n",
            "Epoch 20/100\n",
            "84/84 [==============================] - 0s 3ms/step - loss: 0.0022\n",
            "Epoch 21/100\n",
            "84/84 [==============================] - 0s 3ms/step - loss: 0.0022\n",
            "Epoch 22/100\n",
            "84/84 [==============================] - 0s 3ms/step - loss: 0.0023\n",
            "Epoch 23/100\n",
            "84/84 [==============================] - 0s 3ms/step - loss: 0.0021\n",
            "Epoch 24/100\n",
            "84/84 [==============================] - 0s 3ms/step - loss: 0.0018\n",
            "Epoch 25/100\n",
            "84/84 [==============================] - 0s 3ms/step - loss: 0.0022\n",
            "Epoch 26/100\n",
            "84/84 [==============================] - 0s 3ms/step - loss: 0.0025\n",
            "Epoch 27/100\n",
            "84/84 [==============================] - 0s 3ms/step - loss: 0.0019\n",
            "Epoch 28/100\n",
            "84/84 [==============================] - 0s 3ms/step - loss: 0.0019\n",
            "Epoch 29/100\n",
            "84/84 [==============================] - 0s 3ms/step - loss: 0.0026\n",
            "Epoch 30/100\n",
            "84/84 [==============================] - 0s 3ms/step - loss: 0.0024\n",
            "Epoch 31/100\n",
            "84/84 [==============================] - 0s 3ms/step - loss: 0.0024\n",
            "Epoch 32/100\n",
            "84/84 [==============================] - 0s 3ms/step - loss: 0.0023\n",
            "Epoch 33/100\n",
            "84/84 [==============================] - 0s 3ms/step - loss: 0.0021\n",
            "Epoch 34/100\n",
            "84/84 [==============================] - 0s 3ms/step - loss: 0.0021\n",
            "Epoch 35/100\n",
            "84/84 [==============================] - 0s 2ms/step - loss: 0.0019\n",
            "Epoch 36/100\n",
            "84/84 [==============================] - 0s 3ms/step - loss: 0.0025\n",
            "Epoch 37/100\n",
            "84/84 [==============================] - 0s 3ms/step - loss: 0.0019\n",
            "Epoch 38/100\n",
            "84/84 [==============================] - 0s 3ms/step - loss: 0.0020\n",
            "Epoch 39/100\n",
            "84/84 [==============================] - 0s 3ms/step - loss: 0.0018\n",
            "Epoch 40/100\n",
            "84/84 [==============================] - 0s 3ms/step - loss: 0.0020\n",
            "Epoch 41/100\n",
            "84/84 [==============================] - 0s 3ms/step - loss: 0.0019\n",
            "Epoch 42/100\n",
            "84/84 [==============================] - 0s 3ms/step - loss: 0.0018\n",
            "Epoch 43/100\n",
            "84/84 [==============================] - 0s 3ms/step - loss: 0.0020\n",
            "Epoch 44/100\n",
            "84/84 [==============================] - 0s 3ms/step - loss: 0.0020\n",
            "Epoch 45/100\n",
            "84/84 [==============================] - 0s 3ms/step - loss: 0.0022\n",
            "Epoch 46/100\n",
            "84/84 [==============================] - 0s 2ms/step - loss: 0.0021\n",
            "Epoch 47/100\n",
            "84/84 [==============================] - 0s 3ms/step - loss: 0.0018\n",
            "Epoch 48/100\n",
            "84/84 [==============================] - 0s 3ms/step - loss: 0.0018\n",
            "Epoch 49/100\n",
            "84/84 [==============================] - 0s 3ms/step - loss: 0.0019\n",
            "Epoch 50/100\n",
            "84/84 [==============================] - 0s 3ms/step - loss: 0.0022\n",
            "Epoch 51/100\n",
            "84/84 [==============================] - 0s 3ms/step - loss: 0.0018\n",
            "Epoch 52/100\n",
            "84/84 [==============================] - 0s 3ms/step - loss: 0.0022\n",
            "Epoch 53/100\n",
            "84/84 [==============================] - 0s 3ms/step - loss: 0.0019\n",
            "Epoch 54/100\n",
            "84/84 [==============================] - 0s 3ms/step - loss: 0.0019\n",
            "Epoch 55/100\n",
            "84/84 [==============================] - 0s 3ms/step - loss: 0.0017\n",
            "Epoch 56/100\n",
            "84/84 [==============================] - 0s 3ms/step - loss: 0.0018\n",
            "Epoch 57/100\n",
            "84/84 [==============================] - 0s 3ms/step - loss: 0.0021\n",
            "Epoch 58/100\n",
            "84/84 [==============================] - 0s 3ms/step - loss: 0.0021\n",
            "Epoch 59/100\n",
            "84/84 [==============================] - 0s 3ms/step - loss: 0.0020\n",
            "Epoch 60/100\n",
            "84/84 [==============================] - 0s 3ms/step - loss: 0.0025\n",
            "Epoch 61/100\n",
            "84/84 [==============================] - 0s 3ms/step - loss: 0.0023\n",
            "Epoch 62/100\n",
            "84/84 [==============================] - 0s 3ms/step - loss: 0.0021\n",
            "Epoch 63/100\n",
            "84/84 [==============================] - 0s 3ms/step - loss: 0.0020\n",
            "Epoch 64/100\n",
            "84/84 [==============================] - 0s 3ms/step - loss: 0.0019\n",
            "Epoch 65/100\n",
            "84/84 [==============================] - 0s 2ms/step - loss: 0.0021\n",
            "Epoch 66/100\n",
            "84/84 [==============================] - 0s 3ms/step - loss: 0.0020\n",
            "Epoch 67/100\n",
            "84/84 [==============================] - 0s 3ms/step - loss: 0.0024\n",
            "Epoch 68/100\n",
            "84/84 [==============================] - 0s 3ms/step - loss: 0.0018\n",
            "Epoch 69/100\n",
            "84/84 [==============================] - 0s 3ms/step - loss: 0.0019\n",
            "Epoch 70/100\n",
            "84/84 [==============================] - 0s 3ms/step - loss: 0.0016\n",
            "Epoch 71/100\n",
            "84/84 [==============================] - 0s 3ms/step - loss: 0.0018\n",
            "Epoch 72/100\n",
            "84/84 [==============================] - 0s 3ms/step - loss: 0.0020\n",
            "Epoch 73/100\n",
            "84/84 [==============================] - 0s 3ms/step - loss: 0.0019\n",
            "Epoch 74/100\n",
            "84/84 [==============================] - 0s 3ms/step - loss: 0.0020\n",
            "Epoch 75/100\n",
            "84/84 [==============================] - 0s 3ms/step - loss: 0.0017\n",
            "Epoch 76/100\n",
            "84/84 [==============================] - 0s 3ms/step - loss: 0.0021\n",
            "Epoch 77/100\n",
            "84/84 [==============================] - 0s 3ms/step - loss: 0.0020\n",
            "Epoch 78/100\n",
            "84/84 [==============================] - 0s 3ms/step - loss: 0.0020\n",
            "Epoch 79/100\n",
            "84/84 [==============================] - 0s 3ms/step - loss: 0.0021\n",
            "Epoch 80/100\n",
            "84/84 [==============================] - 0s 3ms/step - loss: 0.0017\n",
            "Epoch 81/100\n",
            "84/84 [==============================] - 0s 3ms/step - loss: 0.0019\n",
            "Epoch 82/100\n",
            "84/84 [==============================] - 0s 3ms/step - loss: 0.0016\n",
            "Epoch 83/100\n",
            "84/84 [==============================] - 0s 3ms/step - loss: 0.0020\n",
            "Epoch 84/100\n",
            "84/84 [==============================] - 0s 3ms/step - loss: 0.0021\n",
            "Epoch 85/100\n",
            "84/84 [==============================] - 0s 3ms/step - loss: 0.0024\n",
            "Epoch 86/100\n",
            "84/84 [==============================] - 0s 3ms/step - loss: 0.0019\n",
            "Epoch 87/100\n",
            "84/84 [==============================] - 0s 3ms/step - loss: 0.0019\n",
            "Epoch 88/100\n",
            "84/84 [==============================] - 0s 3ms/step - loss: 0.0019\n",
            "Epoch 89/100\n",
            "84/84 [==============================] - 0s 3ms/step - loss: 0.0021\n",
            "Epoch 90/100\n",
            "84/84 [==============================] - 0s 2ms/step - loss: 0.0018\n",
            "Epoch 91/100\n",
            "84/84 [==============================] - 0s 2ms/step - loss: 0.0022\n",
            "Epoch 92/100\n",
            "84/84 [==============================] - 0s 3ms/step - loss: 0.0021\n",
            "Epoch 93/100\n",
            "84/84 [==============================] - 0s 2ms/step - loss: 0.0022\n",
            "Epoch 94/100\n",
            "84/84 [==============================] - 0s 3ms/step - loss: 0.0019\n",
            "Epoch 95/100\n",
            "84/84 [==============================] - 0s 3ms/step - loss: 0.0019\n",
            "Epoch 96/100\n",
            "84/84 [==============================] - 0s 3ms/step - loss: 0.0020\n",
            "Epoch 97/100\n",
            "84/84 [==============================] - 0s 3ms/step - loss: 0.0018\n",
            "Epoch 98/100\n",
            "84/84 [==============================] - 0s 2ms/step - loss: 0.0017\n",
            "Epoch 99/100\n",
            "84/84 [==============================] - 0s 2ms/step - loss: 0.0019\n",
            "Epoch 100/100\n",
            "84/84 [==============================] - 0s 2ms/step - loss: 0.0016\n",
            "27/27 [==============================] - 0s 2ms/step - loss: 0.0016\n",
            "7/7 [==============================] - 0s 3ms/step - loss: 0.0317\n",
            "Training accuracy: 0.0015738169895485044\n",
            "Testing accuracy: 0.03173470124602318\n"
          ]
        }
      ]
    },
    {
      "cell_type": "code",
      "source": [
        "losses = history.history['loss']\n",
        "plt.plot(range(len(losses)), losses, 'r')\n",
        "plt.show()"
      ],
      "metadata": {
        "colab": {
          "base_uri": "https://localhost:8080/",
          "height": 265
        },
        "id": "eZsNC_Gznn8F",
        "outputId": "0f10ed9b-2ba5-42bb-a0c9-ba6f102f6ba7"
      },
      "execution_count": 50,
      "outputs": [
        {
          "output_type": "display_data",
          "data": {
            "text/plain": [
              "<Figure size 432x288 with 1 Axes>"
            ],
            "image/png": "[encoded data removed]"
          },
          "metadata": {
            "needs_background": "light"
          }
        }
      ]
    }
  ]
}