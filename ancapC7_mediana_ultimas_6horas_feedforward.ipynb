{
  "nbformat": 4,
  "nbformat_minor": 0,
  "metadata": {
    "colab": {
      "provenance": [],
      "authorship_tag": "ABX9TyMNxf1rBPRqHHa2uAXdhJuY",
      "include_colab_link": true
    },
    "kernelspec": {
      "name": "python3",
      "display_name": "Python 3"
    },
    "language_info": {
      "name": "python"
    }
  },
  "cells": [
    {
      "cell_type": "markdown",
      "metadata": {
        "id": "view-in-github",
        "colab_type": "text"
      },
      "source": [
        "<a href=\"https://colab.research.google.com/github/inesdarosa/visualizaciones_analisis/blob/main/ancapC7_mediana_ultimas_6horas_feedforward.ipynb\" target=\"_parent\"><img src=\"https://colab.research.google.com/assets/colab-badge.svg\" alt=\"Open In Colab\"/></a>"
      ]
    },
    {
      "cell_type": "code",
      "execution_count": null,
      "metadata": {
        "colab": {
          "base_uri": "https://localhost:8080/"
        },
        "id": "ajsEoHF7g2X1",
        "outputId": "81a59371-7c23-44e8-8aac-f57bfa16ac38"
      },
      "outputs": [
        {
          "output_type": "stream",
          "name": "stdout",
          "text": [
            "Mounted at /content/drive\n"
          ]
        }
      ],
      "source": [
        "from google.colab import drive\n",
        "drive.mount('/content/drive')"
      ]
    },
    {
      "cell_type": "code",
      "source": [
        "import numpy as np\n",
        "import pandas as pd \n",
        "from sklearn.model_selection import train_test_split\n",
        "from sklearn.preprocessing import MinMaxScaler\n",
        "\n",
        "import math\n",
        "from keras import models, layers, optimizers, regularizers\n",
        "import random\n",
        "from keras.layers import Dense, Activation, Dropout\n",
        "from sklearn import model_selection, preprocessing\n",
        "import tensorflow as tf\n",
        "from tqdm import tqdm\n",
        "import matplotlib.pyplot as plt\n",
        "\n",
        "from sklearn.metrics import mean_squared_error"
      ],
      "metadata": {
        "id": "DiPsTp1sg75b"
      },
      "execution_count": null,
      "outputs": []
    },
    {
      "cell_type": "code",
      "source": [
        "C7_2022 = pd.read_csv('/content/drive/MyDrive/ejercicios_proyectos/ancap/DATACHALLENGE 2022/Desafio_Contenido_C7_Total_11-2017_09-2021.csv')\n",
        "var_ind_2022 = pd.read_csv('/content/drive/MyDrive/ejercicios_proyectos/ancap/DATACHALLENGE 2022/Desafio_VariablesControl_DCH2022.csv', sep=';')\n"
      ],
      "metadata": {
        "id": "EZGEOGnyhcGz"
      },
      "execution_count": null,
      "outputs": []
    },
    {
      "cell_type": "code",
      "source": [
        "C7_2022.Contenido_C7_Total = pd.to_numeric(C7_2022.Contenido_C7_Total, errors='coerce')\n",
        "var_ind_2022['TimeStamp'] = pd.to_datetime(var_ind_2022['TimeStamp'])\n",
        "print(C7_2022.head())\n",
        "print(var_ind_2022.head())\n"
      ],
      "metadata": {
        "colab": {
          "base_uri": "https://localhost:8080/"
        },
        "id": "p7dfWVOCiDZw",
        "outputId": "36d71e1a-8d56-4814-fe4f-f8210a951c1c"
      },
      "execution_count": null,
      "outputs": [
        {
          "output_type": "stream",
          "name": "stdout",
          "text": [
            "        Fecha      Hora  Contenido_C7_Total  \\\n",
            "0  2017-11-13  07:55:00                1.58   \n",
            "1  2017-11-14  07:00:00                0.87   \n",
            "2  2017-11-16  07:00:00                1.29   \n",
            "3  2017-11-17  07:00:00                1.90   \n",
            "4  2017-11-19  07:00:00                0.68   \n",
            "\n",
            "                              archivo  \n",
            "0   CARGA_ISOM_CAB_2102E-2017-11.xlsx  \n",
            "1   CARGA_ISOM_CAB_2102E-2017-11.xlsx  \n",
            "2   CARGA_ISOM_CAB_2102E-2017-11.xlsx  \n",
            "3  CARGA_ISOM_CAB_2102E-2017-11 .xlsx  \n",
            "4   CARGA_ISOM_CAB_2102E-2017-11.xlsx  \n",
            "            TimeStamp  tdc_phd.pi_21030  tdc_phd.pic_21034  tdc_phd.pi_21035  \\\n",
            "0 2017-01-01 00:00:00           0.81798            0.83386           0.90135   \n",
            "1 2017-01-01 00:01:00           0.81787            0.83426           0.90164   \n",
            "2 2017-01-01 00:02:00           0.81777            0.83466           0.90194   \n",
            "3 2017-01-01 00:03:00           0.81767            0.83505           0.90223   \n",
            "4 2017-01-01 00:04:00           0.81756            0.83545           0.90252   \n",
            "\n",
            "   tdc_phd.ti_21046  tdc_phd.tic_21047  tdc_phd.ti_21048  tdc_phd.ti_21050  \\\n",
            "0         103.90004           75.04008          46.70211         146.76971   \n",
            "1         103.91216           75.02803          46.88399         146.77429   \n",
            "2         103.94854           74.91962          46.88803         146.74072   \n",
            "3         103.92429           74.96780          47.01734         146.72623   \n",
            "4         103.90004           74.90757          46.37471         146.66138   \n",
            "\n",
            "   tdc_phd.ti_21049  tdc_phd.tic_21051  ...  TDC_PHD.TI_21004  \\\n",
            "0         132.51801          132.49586  ...          44.00858   \n",
            "1         132.48425          132.49016  ...          44.02072   \n",
            "2         132.49435          132.50106  ...          44.05714   \n",
            "3         132.52945          132.52774  ...          44.05714   \n",
            "4         132.51686          132.54243  ...          44.05714   \n",
            "\n",
            "   TDC_PHD.FI_21008  TDC_PHD.TI_21029  TDC_PHD.PIC_22059  TDC_PHD.FI_21012  \\\n",
            "0         702.40079          30.14833           20.51065         561.60631   \n",
            "1         704.21851          30.14833           20.51307         578.76511   \n",
            "2         706.33156          30.19741           20.51549         640.46071   \n",
            "3         699.79398          30.24648           20.51791         650.21806   \n",
            "4         698.91084          30.22195           20.52094         648.90002   \n",
            "\n",
            "   TDC_PHD.TI_21036  TDC_PHD.PIC_21026  TDC_PHD.TI_21054  TDC_PHD.TI_22001  \\\n",
            "0          56.15091            9.76864          26.25174         142.71394   \n",
            "1          56.16299            9.76133          26.26406         142.72628   \n",
            "2          56.18714            9.73651          26.26406         142.80038   \n",
            "3          56.42866            9.70260          26.28869         142.80038   \n",
            "4          56.75467            9.69524          26.31332         142.80038   \n",
            "\n",
            "   TDC_PHD.TI_24001  \n",
            "0          49.99722  \n",
            "1          50.02143  \n",
            "2          50.02143  \n",
            "3          50.02143  \n",
            "4          50.02143  \n",
            "\n",
            "[5 rows x 34 columns]\n"
          ]
        }
      ]
    },
    {
      "cell_type": "code",
      "source": [
        "C7_2022['Fecha_Hora'] = pd.to_datetime(C7_2022['Fecha'] + ' ' + C7_2022['Hora'])\n",
        "print(C7_2022.info())\n"
      ],
      "metadata": {
        "colab": {
          "base_uri": "https://localhost:8080/"
        },
        "id": "7QWw8FMliR5w",
        "outputId": "c818efc8-1cbe-4110-f3e3-f540597389cb"
      },
      "execution_count": null,
      "outputs": [
        {
          "output_type": "stream",
          "name": "stdout",
          "text": [
            "<class 'pandas.core.frame.DataFrame'>\n",
            "RangeIndex: 1049 entries, 0 to 1048\n",
            "Data columns (total 5 columns):\n",
            " #   Column              Non-Null Count  Dtype         \n",
            "---  ------              --------------  -----         \n",
            " 0   Fecha               1049 non-null   object        \n",
            " 1   Hora                1049 non-null   object        \n",
            " 2   Contenido_C7_Total  1049 non-null   float64       \n",
            " 3   archivo             1049 non-null   object        \n",
            " 4   Fecha_Hora          1049 non-null   datetime64[ns]\n",
            "dtypes: datetime64[ns](1), float64(1), object(3)\n",
            "memory usage: 41.1+ KB\n",
            "None\n"
          ]
        }
      ]
    },
    {
      "cell_type": "code",
      "source": [
        "var_ind_2022['indice'] = np.arange(var_ind_2022.shape[0])\n",
        "\n",
        "dfXinterval_clean = []\n",
        "\n",
        "for i in range(len(C7_2022)):\n",
        "    mask = var_ind_2022['TimeStamp'] == C7_2022.iloc[i,4]\n",
        "    ind = var_ind_2022.loc[mask]['indice']\n",
        "    matriz_vars_tiempo = pd.DataFrame()\n",
        "    for j in range(360):\n",
        "        #print(\"indice>\" +str(ind))\n",
        "        #print(\"j>\"+str(j))\n",
        "        fila = var_ind_2022.iloc[ind-j,1:-1]\n",
        "        #print(fila)\n",
        "        matriz_vars_tiempo = matriz_vars_tiempo.append(fila, ignore_index = True)\n",
        "    dfXinterval_clean.append(matriz_vars_tiempo)"
      ],
      "metadata": {
        "id": "vwi4z3QaiXqG"
      },
      "execution_count": null,
      "outputs": []
    },
    {
      "cell_type": "code",
      "source": [
        "list_indep = []\n",
        "\n",
        "for i in range(len(C7_2022)):\n",
        "    mediana = dfXinterval_clean[i].describe().iloc[5,].values\n",
        "    list_indep.append(mediana)\n"
      ],
      "metadata": {
        "id": "Dej57AV7kHZ8"
      },
      "execution_count": null,
      "outputs": []
    },
    {
      "cell_type": "code",
      "source": [
        "list_indep[0:3]"
      ],
      "metadata": {
        "id": "W-ZaZi1KkrbC"
      },
      "execution_count": null,
      "outputs": []
    },
    {
      "cell_type": "code",
      "source": [
        "type(list_indep) \n",
        "\n",
        "array_indep = np.array(list_indep)"
      ],
      "metadata": {
        "id": "RjoUIjSmknNc"
      },
      "execution_count": null,
      "outputs": []
    },
    {
      "cell_type": "code",
      "source": [
        "array_indep.shape"
      ],
      "metadata": {
        "colab": {
          "base_uri": "https://localhost:8080/"
        },
        "id": "Y0FX9JuUk2he",
        "outputId": "3ccad5ab-92a2-4a75-cb76-1e11f3826b94"
      },
      "execution_count": null,
      "outputs": [
        {
          "output_type": "execute_result",
          "data": {
            "text/plain": [
              "(1049, 33)"
            ]
          },
          "metadata": {},
          "execution_count": 12
        }
      ]
    },
    {
      "cell_type": "code",
      "source": [
        "C7_total = C7_2022['Contenido_C7_Total']\n",
        "type(C7_total)\n"
      ],
      "metadata": {
        "colab": {
          "base_uri": "https://localhost:8080/"
        },
        "id": "ZgHtGQgEk5c-",
        "outputId": "85997e75-2ddb-4a5c-89ac-8e895e85d513"
      },
      "execution_count": null,
      "outputs": [
        {
          "output_type": "execute_result",
          "data": {
            "text/plain": [
              "pandas.core.series.Series"
            ]
          },
          "metadata": {},
          "execution_count": 13
        }
      ]
    },
    {
      "cell_type": "code",
      "source": [
        "C7_array = np.array(C7_total)\n",
        "C7_array.shape\n"
      ],
      "metadata": {
        "colab": {
          "base_uri": "https://localhost:8080/"
        },
        "id": "TR6MOXeJlCVV",
        "outputId": "01655d08-dc77-4ee5-aa08-e359fb733691"
      },
      "execution_count": null,
      "outputs": [
        {
          "output_type": "execute_result",
          "data": {
            "text/plain": [
              "(1049,)"
            ]
          },
          "metadata": {},
          "execution_count": 14
        }
      ]
    },
    {
      "cell_type": "code",
      "source": [
        "C7_array = np.reshape(C7_array, (1049,1))\n"
      ],
      "metadata": {
        "id": "-T06s5UJlGHb"
      },
      "execution_count": null,
      "outputs": []
    },
    {
      "cell_type": "code",
      "source": [
        "C7_array.shape"
      ],
      "metadata": {
        "colab": {
          "base_uri": "https://localhost:8080/"
        },
        "id": "UR62VGaLlJQl",
        "outputId": "724a681c-7a78-4184-9509-c156c672f305"
      },
      "execution_count": null,
      "outputs": [
        {
          "output_type": "execute_result",
          "data": {
            "text/plain": [
              "(1049, 1)"
            ]
          },
          "metadata": {},
          "execution_count": 16
        }
      ]
    },
    {
      "cell_type": "code",
      "source": [
        "X_train, X_test, y_train, y_test = train_test_split(array_indep, C7_array, test_size=0.2, random_state=42)\n"
      ],
      "metadata": {
        "id": "0mju9hoXlNqi"
      },
      "execution_count": null,
      "outputs": []
    },
    {
      "cell_type": "code",
      "source": [
        "print(X_train.shape)\n",
        "print(y_train.shape)\n"
      ],
      "metadata": {
        "colab": {
          "base_uri": "https://localhost:8080/"
        },
        "id": "EDifiMMulwau",
        "outputId": "4d58f6d6-e3fc-4e9b-a632-41c4f303b093"
      },
      "execution_count": null,
      "outputs": [
        {
          "output_type": "stream",
          "name": "stdout",
          "text": [
            "(839, 33)\n",
            "(839, 1)\n"
          ]
        }
      ]
    },
    {
      "cell_type": "code",
      "source": [
        "XY_scaler = MinMaxScaler()\n",
        "X_data_train = XY_scaler.fit_transform(X_train)\n",
        "Y_data_train = XY_scaler.fit_transform(y_train)\n",
        "\n",
        "X_data_test = XY_scaler.fit_transform(X_test)\n",
        "Y_data_test = XY_scaler.fit_transform(y_test)\n",
        "\n"
      ],
      "metadata": {
        "id": "BUiaknWPl5z2"
      },
      "execution_count": null,
      "outputs": []
    },
    {
      "cell_type": "code",
      "source": [
        "print(type(X_data_test))\n",
        "print(Y_data_test.shape)\n"
      ],
      "metadata": {
        "colab": {
          "base_uri": "https://localhost:8080/"
        },
        "id": "9PT1G977mIc0",
        "outputId": "c966f949-24bf-4a88-c88e-914300c5f7e4"
      },
      "execution_count": null,
      "outputs": [
        {
          "output_type": "stream",
          "name": "stdout",
          "text": [
            "<class 'numpy.ndarray'>\n",
            "(210, 1)\n"
          ]
        }
      ]
    },
    {
      "cell_type": "code",
      "source": [
        "# create a sequential model\n",
        "model = models.Sequential()\n",
        "\n",
        "# add the hidden layer\n",
        "model.add(layers.Dense(input_dim=33,\n",
        "                       units=64, \n",
        "                       activation='relu'))\n",
        "\n",
        "\n",
        "model.add(layers.Dense(input_dim=64,\n",
        "                       units=32,\n",
        "                       activation='relu'))\n",
        "model.add(layers.Dropout(0.2))\n",
        "\n",
        "# add the output layer\n",
        "model.add(layers.Dense(input_dim=32,\n",
        "                       units=1,\n",
        "                       activation='linear'))\n",
        "\n",
        "# define our loss function and optimizer\n",
        "model.compile(loss='mean_squared_error',\n",
        "              # Adam is a kind of gradient descent\n",
        "              optimizer='adam')\n",
        "\n",
        "#optimizers.Adam(lr=0.01)"
      ],
      "metadata": {
        "id": "jGeLWe1hmQsE"
      },
      "execution_count": null,
      "outputs": []
    },
    {
      "cell_type": "code",
      "source": [
        "model.summary()"
      ],
      "metadata": {
        "colab": {
          "base_uri": "https://localhost:8080/"
        },
        "id": "cDDiXtwhmZ3N",
        "outputId": "4611114c-28e2-4425-b6bd-ceea1cc3742a"
      },
      "execution_count": null,
      "outputs": [
        {
          "output_type": "stream",
          "name": "stdout",
          "text": [
            "Model: \"sequential\"\n",
            "_________________________________________________________________\n",
            " Layer (type)                Output Shape              Param #   \n",
            "=================================================================\n",
            " dense (Dense)               (None, 64)                2176      \n",
            "                                                                 \n",
            " dense_1 (Dense)             (None, 32)                2080      \n",
            "                                                                 \n",
            " dropout (Dropout)           (None, 32)                0         \n",
            "                                                                 \n",
            " dense_2 (Dense)             (None, 1)                 33        \n",
            "                                                                 \n",
            "=================================================================\n",
            "Total params: 4,289\n",
            "Trainable params: 4,289\n",
            "Non-trainable params: 0\n",
            "_________________________________________________________________\n"
          ]
        }
      ]
    },
    {
      "cell_type": "code",
      "source": [
        "model.fit(X_data_train, Y_data_train, epochs=100, batch_size=10)"
      ],
      "metadata": {
        "colab": {
          "base_uri": "https://localhost:8080/"
        },
        "id": "Lq9PAe_hmgkL",
        "outputId": "18508eb9-7f09-46cc-ca31-07a9a917fe57"
      },
      "execution_count": null,
      "outputs": [
        {
          "output_type": "stream",
          "name": "stdout",
          "text": [
            "Epoch 1/100\n",
            "84/84 [==============================] - 1s 2ms/step - loss: 0.1096\n",
            "Epoch 2/100\n",
            "84/84 [==============================] - 0s 2ms/step - loss: 0.0136\n",
            "Epoch 3/100\n",
            "84/84 [==============================] - 0s 2ms/step - loss: 0.0091\n",
            "Epoch 4/100\n",
            "84/84 [==============================] - 0s 2ms/step - loss: 0.0075\n",
            "Epoch 5/100\n",
            "84/84 [==============================] - 0s 2ms/step - loss: 0.0066\n",
            "Epoch 6/100\n",
            "84/84 [==============================] - 0s 2ms/step - loss: 0.0063\n",
            "Epoch 7/100\n",
            "84/84 [==============================] - 0s 2ms/step - loss: 0.0057\n",
            "Epoch 8/100\n",
            "84/84 [==============================] - 0s 2ms/step - loss: 0.0059\n",
            "Epoch 9/100\n",
            "84/84 [==============================] - 0s 2ms/step - loss: 0.0051\n",
            "Epoch 10/100\n",
            "84/84 [==============================] - 0s 2ms/step - loss: 0.0049\n",
            "Epoch 11/100\n",
            "84/84 [==============================] - 0s 2ms/step - loss: 0.0052\n",
            "Epoch 12/100\n",
            "84/84 [==============================] - 0s 2ms/step - loss: 0.0052\n",
            "Epoch 13/100\n",
            "84/84 [==============================] - 0s 2ms/step - loss: 0.0044\n",
            "Epoch 14/100\n",
            "84/84 [==============================] - 0s 3ms/step - loss: 0.0042\n",
            "Epoch 15/100\n",
            "84/84 [==============================] - 0s 2ms/step - loss: 0.0041\n",
            "Epoch 16/100\n",
            "84/84 [==============================] - 0s 2ms/step - loss: 0.0045\n",
            "Epoch 17/100\n",
            "84/84 [==============================] - 0s 2ms/step - loss: 0.0041\n",
            "Epoch 18/100\n",
            "84/84 [==============================] - 0s 2ms/step - loss: 0.0041\n",
            "Epoch 19/100\n",
            "84/84 [==============================] - 0s 2ms/step - loss: 0.0043\n",
            "Epoch 20/100\n",
            "84/84 [==============================] - 0s 2ms/step - loss: 0.0034\n",
            "Epoch 21/100\n",
            "84/84 [==============================] - 0s 2ms/step - loss: 0.0042\n",
            "Epoch 22/100\n",
            "84/84 [==============================] - 0s 2ms/step - loss: 0.0036\n",
            "Epoch 23/100\n",
            "84/84 [==============================] - 0s 2ms/step - loss: 0.0034\n",
            "Epoch 24/100\n",
            "84/84 [==============================] - 0s 2ms/step - loss: 0.0036\n",
            "Epoch 25/100\n",
            "84/84 [==============================] - 0s 2ms/step - loss: 0.0034\n",
            "Epoch 26/100\n",
            "84/84 [==============================] - 0s 2ms/step - loss: 0.0036\n",
            "Epoch 27/100\n",
            "84/84 [==============================] - 0s 2ms/step - loss: 0.0033\n",
            "Epoch 28/100\n",
            "84/84 [==============================] - 0s 2ms/step - loss: 0.0036\n",
            "Epoch 29/100\n",
            "84/84 [==============================] - 0s 2ms/step - loss: 0.0033\n",
            "Epoch 30/100\n",
            "84/84 [==============================] - 0s 2ms/step - loss: 0.0035\n",
            "Epoch 31/100\n",
            "84/84 [==============================] - 0s 2ms/step - loss: 0.0030\n",
            "Epoch 32/100\n",
            "84/84 [==============================] - 0s 2ms/step - loss: 0.0032\n",
            "Epoch 33/100\n",
            "84/84 [==============================] - 0s 2ms/step - loss: 0.0032\n",
            "Epoch 34/100\n",
            "84/84 [==============================] - 0s 2ms/step - loss: 0.0030\n",
            "Epoch 35/100\n",
            "84/84 [==============================] - 0s 2ms/step - loss: 0.0033\n",
            "Epoch 36/100\n",
            "84/84 [==============================] - 0s 2ms/step - loss: 0.0030\n",
            "Epoch 37/100\n",
            "84/84 [==============================] - 0s 3ms/step - loss: 0.0032\n",
            "Epoch 38/100\n",
            "84/84 [==============================] - 0s 2ms/step - loss: 0.0030\n",
            "Epoch 39/100\n",
            "84/84 [==============================] - 0s 2ms/step - loss: 0.0032\n",
            "Epoch 40/100\n",
            "84/84 [==============================] - 0s 2ms/step - loss: 0.0030\n",
            "Epoch 41/100\n",
            "84/84 [==============================] - 0s 2ms/step - loss: 0.0028\n",
            "Epoch 42/100\n",
            "84/84 [==============================] - 0s 2ms/step - loss: 0.0028\n",
            "Epoch 43/100\n",
            "84/84 [==============================] - 0s 2ms/step - loss: 0.0033\n",
            "Epoch 44/100\n",
            "84/84 [==============================] - 0s 2ms/step - loss: 0.0031\n",
            "Epoch 45/100\n",
            "84/84 [==============================] - 0s 2ms/step - loss: 0.0027\n",
            "Epoch 46/100\n",
            "84/84 [==============================] - 0s 2ms/step - loss: 0.0032\n",
            "Epoch 47/100\n",
            "84/84 [==============================] - 0s 2ms/step - loss: 0.0031\n",
            "Epoch 48/100\n",
            "84/84 [==============================] - 0s 2ms/step - loss: 0.0033\n",
            "Epoch 49/100\n",
            "84/84 [==============================] - 0s 2ms/step - loss: 0.0028\n",
            "Epoch 50/100\n",
            "84/84 [==============================] - 0s 2ms/step - loss: 0.0028\n",
            "Epoch 51/100\n",
            "84/84 [==============================] - 0s 2ms/step - loss: 0.0031\n",
            "Epoch 52/100\n",
            "84/84 [==============================] - 0s 2ms/step - loss: 0.0030\n",
            "Epoch 53/100\n",
            "84/84 [==============================] - 0s 2ms/step - loss: 0.0030\n",
            "Epoch 54/100\n",
            "84/84 [==============================] - 0s 2ms/step - loss: 0.0025\n",
            "Epoch 55/100\n",
            "84/84 [==============================] - 0s 2ms/step - loss: 0.0026\n",
            "Epoch 56/100\n",
            "84/84 [==============================] - 0s 2ms/step - loss: 0.0025\n",
            "Epoch 57/100\n",
            "84/84 [==============================] - 0s 2ms/step - loss: 0.0026\n",
            "Epoch 58/100\n",
            "84/84 [==============================] - 0s 2ms/step - loss: 0.0032\n",
            "Epoch 59/100\n",
            "84/84 [==============================] - 0s 2ms/step - loss: 0.0026\n",
            "Epoch 60/100\n",
            "84/84 [==============================] - 0s 2ms/step - loss: 0.0029\n",
            "Epoch 61/100\n",
            "84/84 [==============================] - 0s 2ms/step - loss: 0.0030\n",
            "Epoch 62/100\n",
            "84/84 [==============================] - 0s 2ms/step - loss: 0.0029\n",
            "Epoch 63/100\n",
            "84/84 [==============================] - 0s 2ms/step - loss: 0.0026\n",
            "Epoch 64/100\n",
            "84/84 [==============================] - 0s 2ms/step - loss: 0.0027\n",
            "Epoch 65/100\n",
            "84/84 [==============================] - 0s 2ms/step - loss: 0.0028\n",
            "Epoch 66/100\n",
            "84/84 [==============================] - 0s 2ms/step - loss: 0.0027\n",
            "Epoch 67/100\n",
            "84/84 [==============================] - 0s 2ms/step - loss: 0.0026\n",
            "Epoch 68/100\n",
            "84/84 [==============================] - 0s 2ms/step - loss: 0.0027\n",
            "Epoch 69/100\n",
            "84/84 [==============================] - 0s 2ms/step - loss: 0.0029\n",
            "Epoch 70/100\n",
            "84/84 [==============================] - 0s 2ms/step - loss: 0.0025\n",
            "Epoch 71/100\n",
            "84/84 [==============================] - 0s 2ms/step - loss: 0.0026\n",
            "Epoch 72/100\n",
            "84/84 [==============================] - 0s 2ms/step - loss: 0.0028\n",
            "Epoch 73/100\n",
            "84/84 [==============================] - 0s 2ms/step - loss: 0.0028\n",
            "Epoch 74/100\n",
            "84/84 [==============================] - 0s 3ms/step - loss: 0.0024\n",
            "Epoch 75/100\n",
            "84/84 [==============================] - 0s 2ms/step - loss: 0.0026\n",
            "Epoch 76/100\n",
            "84/84 [==============================] - 0s 2ms/step - loss: 0.0027\n",
            "Epoch 77/100\n",
            "84/84 [==============================] - 0s 3ms/step - loss: 0.0035\n",
            "Epoch 78/100\n",
            "84/84 [==============================] - 0s 2ms/step - loss: 0.0025\n",
            "Epoch 79/100\n",
            "84/84 [==============================] - 0s 2ms/step - loss: 0.0023\n",
            "Epoch 80/100\n",
            "84/84 [==============================] - 0s 2ms/step - loss: 0.0028\n",
            "Epoch 81/100\n",
            "84/84 [==============================] - 0s 2ms/step - loss: 0.0026\n",
            "Epoch 82/100\n",
            "84/84 [==============================] - 0s 2ms/step - loss: 0.0026\n",
            "Epoch 83/100\n",
            "84/84 [==============================] - 0s 2ms/step - loss: 0.0026\n",
            "Epoch 84/100\n",
            "84/84 [==============================] - 0s 3ms/step - loss: 0.0025\n",
            "Epoch 85/100\n",
            "84/84 [==============================] - 0s 2ms/step - loss: 0.0025\n",
            "Epoch 86/100\n",
            "84/84 [==============================] - 0s 2ms/step - loss: 0.0027\n",
            "Epoch 87/100\n",
            "84/84 [==============================] - 0s 3ms/step - loss: 0.0025\n",
            "Epoch 88/100\n",
            "84/84 [==============================] - 0s 2ms/step - loss: 0.0026\n",
            "Epoch 89/100\n",
            "84/84 [==============================] - 0s 3ms/step - loss: 0.0024\n",
            "Epoch 90/100\n",
            "84/84 [==============================] - 0s 3ms/step - loss: 0.0025\n",
            "Epoch 91/100\n",
            "84/84 [==============================] - 0s 2ms/step - loss: 0.0025\n",
            "Epoch 92/100\n",
            "84/84 [==============================] - 0s 2ms/step - loss: 0.0027\n",
            "Epoch 93/100\n",
            "84/84 [==============================] - 0s 2ms/step - loss: 0.0030\n",
            "Epoch 94/100\n",
            "84/84 [==============================] - 0s 2ms/step - loss: 0.0023\n",
            "Epoch 95/100\n",
            "84/84 [==============================] - 0s 2ms/step - loss: 0.0026\n",
            "Epoch 96/100\n",
            "84/84 [==============================] - 0s 2ms/step - loss: 0.0028\n",
            "Epoch 97/100\n",
            "84/84 [==============================] - 0s 3ms/step - loss: 0.0023\n",
            "Epoch 98/100\n",
            "84/84 [==============================] - 0s 3ms/step - loss: 0.0026\n",
            "Epoch 99/100\n",
            "84/84 [==============================] - 0s 2ms/step - loss: 0.0024\n",
            "Epoch 100/100\n",
            "84/84 [==============================] - 0s 2ms/step - loss: 0.0024\n"
          ]
        },
        {
          "output_type": "execute_result",
          "data": {
            "text/plain": [
              "<keras.callbacks.History at 0x7f2829faa590>"
            ]
          },
          "metadata": {},
          "execution_count": 23
        }
      ]
    },
    {
      "cell_type": "code",
      "source": [
        "ypred = model.predict(X_data_test)\n",
        "print(\"MSE: %.4f\" % mean_squared_error(Y_data_test, ypred))"
      ],
      "metadata": {
        "colab": {
          "base_uri": "https://localhost:8080/"
        },
        "id": "UjH9dGoUmtAA",
        "outputId": "5dc85590-d46f-4ca8-d884-1a93c9388467"
      },
      "execution_count": null,
      "outputs": [
        {
          "output_type": "stream",
          "name": "stdout",
          "text": [
            "7/7 [==============================] - 0s 3ms/step\n",
            "MSE: 0.0303\n"
          ]
        }
      ]
    },
    {
      "cell_type": "code",
      "source": [
        "ytest_orig = XY_scaler.inverse_transform(Y_data_test)\n",
        "ypred_orig = XY_scaler.inverse_transform(ypred)"
      ],
      "metadata": {
        "id": "VtbUYRMwmy0e"
      },
      "execution_count": null,
      "outputs": []
    },
    {
      "cell_type": "code",
      "source": [
        "print(\"MSE sin escalar: %.4f\" % mean_squared_error(ytest_orig, ypred_orig))"
      ],
      "metadata": {
        "colab": {
          "base_uri": "https://localhost:8080/"
        },
        "id": "YdIrTt8Ym2te",
        "outputId": "0bcf72bd-73ab-4fac-9c1c-c17eddc405b7"
      },
      "execution_count": null,
      "outputs": [
        {
          "output_type": "stream",
          "name": "stdout",
          "text": [
            "MSE sin escalar: 1.4570\n"
          ]
        }
      ]
    },
    {
      "cell_type": "code",
      "source": [
        "# Esto hay que revisarlo\n",
        "#print(sum(((ytest_orig-ypred_orig)/ypred_orig)>0.10))"
      ],
      "metadata": {
        "id": "KmYEEQ68m-2w"
      },
      "execution_count": null,
      "outputs": []
    },
    {
      "cell_type": "code",
      "source": [
        "print(sum((ypred_orig < (ytest_orig + (10*ytest_orig/100))) & ((ytest_orig - (10*ytest_orig/100)) < ypred_orig))) "
      ],
      "metadata": {
        "colab": {
          "base_uri": "https://localhost:8080/"
        },
        "id": "8X47t5sOvI-z",
        "outputId": "1da85752-1b81-4921-dd6f-3c3eddf93d42"
      },
      "execution_count": null,
      "outputs": [
        {
          "output_type": "stream",
          "name": "stdout",
          "text": [
            "[23]\n"
          ]
        }
      ]
    },
    {
      "cell_type": "code",
      "source": [
        "len(ytest_orig) - sum((ypred_orig < (ytest_orig + (10*ytest_orig/100))) & ((ytest_orig - (10*ytest_orig/100)) < ypred_orig))"
      ],
      "metadata": {
        "colab": {
          "base_uri": "https://localhost:8080/"
        },
        "id": "86KGxVCt4iAO",
        "outputId": "083b038c-5440-47ef-d642-19bdc05d0642"
      },
      "execution_count": null,
      "outputs": [
        {
          "output_type": "execute_result",
          "data": {
            "text/plain": [
              "array([187])"
            ]
          },
          "metadata": {},
          "execution_count": 43
        }
      ]
    },
    {
      "cell_type": "code",
      "source": [
        "23*100/210"
      ],
      "metadata": {
        "colab": {
          "base_uri": "https://localhost:8080/"
        },
        "id": "L_oVROfGS44f",
        "outputId": "41b9a656-7bf1-42cb-c8f8-44e0876f5531"
      },
      "execution_count": 2,
      "outputs": [
        {
          "output_type": "execute_result",
          "data": {
            "text/plain": [
              "10.952380952380953"
            ]
          },
          "metadata": {},
          "execution_count": 2
        }
      ]
    },
    {
      "cell_type": "markdown",
      "source": [
        "En el resultado anterior solo 23 casos estarían dentro del 10%, o sea que la gran mayoría de los casos los valores predichos son un 10% mayor o menor comparado con los valores reals (ytest_orig)"
      ],
      "metadata": {
        "id": "NnWOakaZ48sk"
      }
    },
    {
      "cell_type": "code",
      "source": [
        "x_ax = range(len(ypred))\n",
        "#plt.scatter(x_ax, ytest, s=5, color=\"blue\", label=\"original\")\n",
        "plt.plot(x_ax, Y_data_test, color=\"blue\", label=\"original\")\n",
        "plt.plot(x_ax, ypred, lw=0.8, color=\"red\", label=\"predicted\")\n",
        "plt.legend()\n",
        "plt.show()"
      ],
      "metadata": {
        "colab": {
          "base_uri": "https://localhost:8080/",
          "height": 265
        },
        "id": "wr2nrTQqnIzn",
        "outputId": "41b0c3c8-da1b-471e-ebf9-25bdd5ddaa6b"
      },
      "execution_count": null,
      "outputs": [
        {
          "output_type": "display_data",
          "data": {
            "text/plain": [
              "<Figure size 432x288 with 1 Axes>"
            ],
            "image/png": "[encoded data removed]"
          },
          "metadata": {
            "needs_background": "light"
          }
        }
      ]
    },
    {
      "cell_type": "code",
      "source": [
        "history = model.fit(X_data_train, Y_data_train, epochs=100, batch_size=10)\n",
        "\n",
        "# evaluate accuracy\n",
        "train_acc = model.evaluate(X_data_train, Y_data_train, batch_size=32)\n",
        "test_acc = model.evaluate(X_data_test, Y_data_test, batch_size=32)\n",
        "print('Training accuracy: %s' % train_acc)\n",
        "print('Testing accuracy: %s' % test_acc)\n"
      ],
      "metadata": {
        "colab": {
          "base_uri": "https://localhost:8080/",
          "height": 1000
        },
        "id": "cE9YxKw6nSv_",
        "outputId": "c1bd7aab-1a7e-4ef9-911a-054a58df69ca"
      },
      "execution_count": null,
      "outputs": [
        {
          "output_type": "stream",
          "name": "stdout",
          "text": [
            "Epoch 1/100\n",
            "84/84 [==============================] - 0s 2ms/step - loss: 0.0023\n",
            "Epoch 2/100\n",
            "84/84 [==============================] - 0s 2ms/step - loss: 0.0023\n",
            "Epoch 3/100\n",
            "84/84 [==============================] - 0s 2ms/step - loss: 0.0023\n",
            "Epoch 4/100\n",
            "84/84 [==============================] - 0s 2ms/step - loss: 0.0024\n",
            "Epoch 5/100\n",
            "84/84 [==============================] - 0s 2ms/step - loss: 0.0024\n",
            "Epoch 6/100\n",
            "84/84 [==============================] - 0s 2ms/step - loss: 0.0026\n",
            "Epoch 7/100\n",
            "84/84 [==============================] - 0s 2ms/step - loss: 0.0024\n",
            "Epoch 8/100\n",
            "84/84 [==============================] - 0s 2ms/step - loss: 0.0024\n",
            "Epoch 9/100\n",
            "84/84 [==============================] - 0s 2ms/step - loss: 0.0021\n",
            "Epoch 10/100\n",
            "84/84 [==============================] - 0s 2ms/step - loss: 0.0027\n",
            "Epoch 11/100\n",
            "84/84 [==============================] - 0s 2ms/step - loss: 0.0022\n",
            "Epoch 12/100\n",
            "84/84 [==============================] - 0s 2ms/step - loss: 0.0028\n",
            "Epoch 13/100\n",
            "84/84 [==============================] - 0s 2ms/step - loss: 0.0024\n",
            "Epoch 14/100\n",
            "84/84 [==============================] - 0s 2ms/step - loss: 0.0022\n",
            "Epoch 15/100\n",
            "84/84 [==============================] - 0s 2ms/step - loss: 0.0022\n",
            "Epoch 16/100\n",
            "84/84 [==============================] - 0s 2ms/step - loss: 0.0024\n",
            "Epoch 17/100\n",
            "84/84 [==============================] - 0s 2ms/step - loss: 0.0026\n",
            "Epoch 18/100\n",
            "84/84 [==============================] - 0s 2ms/step - loss: 0.0022\n",
            "Epoch 19/100\n",
            "84/84 [==============================] - 0s 2ms/step - loss: 0.0026\n",
            "Epoch 20/100\n",
            "84/84 [==============================] - 0s 2ms/step - loss: 0.0027\n",
            "Epoch 21/100\n",
            "84/84 [==============================] - 0s 2ms/step - loss: 0.0026\n",
            "Epoch 22/100\n",
            "84/84 [==============================] - 0s 2ms/step - loss: 0.0024\n",
            "Epoch 23/100\n",
            "84/84 [==============================] - 0s 2ms/step - loss: 0.0022\n",
            "Epoch 24/100\n",
            "84/84 [==============================] - 0s 2ms/step - loss: 0.0023\n",
            "Epoch 25/100\n",
            "84/84 [==============================] - 0s 3ms/step - loss: 0.0024\n",
            "Epoch 26/100\n",
            "84/84 [==============================] - 0s 2ms/step - loss: 0.0020\n",
            "Epoch 27/100\n",
            "84/84 [==============================] - 0s 2ms/step - loss: 0.0023\n",
            "Epoch 28/100\n",
            "84/84 [==============================] - 0s 2ms/step - loss: 0.0029\n",
            "Epoch 29/100\n",
            "84/84 [==============================] - 0s 2ms/step - loss: 0.0022\n",
            "Epoch 30/100\n",
            "84/84 [==============================] - 0s 2ms/step - loss: 0.0023\n",
            "Epoch 31/100\n",
            "84/84 [==============================] - 0s 3ms/step - loss: 0.0025\n",
            "Epoch 32/100\n",
            "84/84 [==============================] - 0s 2ms/step - loss: 0.0022\n",
            "Epoch 33/100\n",
            "84/84 [==============================] - 0s 2ms/step - loss: 0.0024\n",
            "Epoch 34/100\n",
            "84/84 [==============================] - 0s 2ms/step - loss: 0.0022\n",
            "Epoch 35/100\n",
            "84/84 [==============================] - 0s 2ms/step - loss: 0.0020\n",
            "Epoch 36/100\n",
            "84/84 [==============================] - 0s 2ms/step - loss: 0.0021\n",
            "Epoch 37/100\n",
            "84/84 [==============================] - 0s 2ms/step - loss: 0.0025\n",
            "Epoch 38/100\n",
            "84/84 [==============================] - 0s 2ms/step - loss: 0.0027\n",
            "Epoch 39/100\n",
            "84/84 [==============================] - 0s 2ms/step - loss: 0.0023\n",
            "Epoch 40/100\n",
            "84/84 [==============================] - 0s 2ms/step - loss: 0.0026\n",
            "Epoch 41/100\n",
            "84/84 [==============================] - 0s 2ms/step - loss: 0.0022\n",
            "Epoch 42/100\n",
            "84/84 [==============================] - 0s 2ms/step - loss: 0.0022\n",
            "Epoch 43/100\n",
            "84/84 [==============================] - 0s 2ms/step - loss: 0.0022\n",
            "Epoch 44/100\n",
            "84/84 [==============================] - 0s 2ms/step - loss: 0.0021\n",
            "Epoch 45/100\n",
            "84/84 [==============================] - 0s 2ms/step - loss: 0.0021\n",
            "Epoch 46/100\n",
            "84/84 [==============================] - 0s 2ms/step - loss: 0.0023\n",
            "Epoch 47/100\n",
            "84/84 [==============================] - 0s 2ms/step - loss: 0.0025\n",
            "Epoch 48/100\n",
            "84/84 [==============================] - 0s 2ms/step - loss: 0.0023\n",
            "Epoch 49/100\n",
            "84/84 [==============================] - 0s 2ms/step - loss: 0.0021\n",
            "Epoch 50/100\n",
            "84/84 [==============================] - 0s 2ms/step - loss: 0.0026\n",
            "Epoch 51/100\n",
            "84/84 [==============================] - 0s 3ms/step - loss: 0.0023\n",
            "Epoch 52/100\n",
            "84/84 [==============================] - 0s 2ms/step - loss: 0.0021\n",
            "Epoch 53/100\n",
            "84/84 [==============================] - 0s 2ms/step - loss: 0.0025\n",
            "Epoch 54/100\n",
            "84/84 [==============================] - 0s 2ms/step - loss: 0.0023\n",
            "Epoch 55/100\n",
            "84/84 [==============================] - 0s 2ms/step - loss: 0.0023\n",
            "Epoch 56/100\n",
            "84/84 [==============================] - 0s 2ms/step - loss: 0.0026\n",
            "Epoch 57/100\n",
            "84/84 [==============================] - 0s 2ms/step - loss: 0.0022\n",
            "Epoch 58/100\n",
            "84/84 [==============================] - 0s 2ms/step - loss: 0.0021\n",
            "Epoch 59/100\n",
            "84/84 [==============================] - 0s 2ms/step - loss: 0.0026\n",
            "Epoch 60/100\n",
            "84/84 [==============================] - 0s 2ms/step - loss: 0.0024\n",
            "Epoch 61/100\n",
            "84/84 [==============================] - 0s 3ms/step - loss: 0.0025\n",
            "Epoch 62/100\n",
            "84/84 [==============================] - 0s 2ms/step - loss: 0.0022\n",
            "Epoch 63/100\n",
            "84/84 [==============================] - 0s 3ms/step - loss: 0.0022\n",
            "Epoch 64/100\n",
            "84/84 [==============================] - 0s 2ms/step - loss: 0.0020\n",
            "Epoch 65/100\n",
            "84/84 [==============================] - 0s 3ms/step - loss: 0.0023\n",
            "Epoch 66/100\n",
            "84/84 [==============================] - 0s 2ms/step - loss: 0.0023\n",
            "Epoch 67/100\n",
            "84/84 [==============================] - 0s 2ms/step - loss: 0.0022\n",
            "Epoch 68/100\n",
            "84/84 [==============================] - 0s 2ms/step - loss: 0.0021\n",
            "Epoch 69/100\n",
            "84/84 [==============================] - 0s 2ms/step - loss: 0.0021\n",
            "Epoch 70/100\n",
            "84/84 [==============================] - 0s 2ms/step - loss: 0.0020\n",
            "Epoch 71/100\n",
            "84/84 [==============================] - 0s 2ms/step - loss: 0.0025\n",
            "Epoch 72/100\n",
            "84/84 [==============================] - 0s 2ms/step - loss: 0.0021\n",
            "Epoch 73/100\n",
            "84/84 [==============================] - 0s 2ms/step - loss: 0.0020\n",
            "Epoch 74/100\n",
            "84/84 [==============================] - 0s 2ms/step - loss: 0.0027\n",
            "Epoch 75/100\n",
            "84/84 [==============================] - 0s 2ms/step - loss: 0.0022\n",
            "Epoch 76/100\n",
            "84/84 [==============================] - 0s 3ms/step - loss: 0.0023\n",
            "Epoch 77/100\n",
            "84/84 [==============================] - 0s 3ms/step - loss: 0.0021\n",
            "Epoch 78/100\n",
            "84/84 [==============================] - 0s 2ms/step - loss: 0.0022\n",
            "Epoch 79/100\n",
            "84/84 [==============================] - 0s 2ms/step - loss: 0.0023\n",
            "Epoch 80/100\n",
            "84/84 [==============================] - 0s 3ms/step - loss: 0.0021\n",
            "Epoch 81/100\n",
            "84/84 [==============================] - 0s 3ms/step - loss: 0.0025\n",
            "Epoch 82/100\n",
            "84/84 [==============================] - 0s 2ms/step - loss: 0.0021\n",
            "Epoch 83/100\n",
            "84/84 [==============================] - 0s 2ms/step - loss: 0.0021\n",
            "Epoch 84/100\n",
            "84/84 [==============================] - 0s 3ms/step - loss: 0.0020\n",
            "Epoch 85/100\n",
            "84/84 [==============================] - 0s 3ms/step - loss: 0.0021\n",
            "Epoch 86/100\n",
            "84/84 [==============================] - 0s 2ms/step - loss: 0.0023\n",
            "Epoch 87/100\n",
            "84/84 [==============================] - 0s 2ms/step - loss: 0.0023\n",
            "Epoch 88/100\n",
            "84/84 [==============================] - 0s 2ms/step - loss: 0.0024\n",
            "Epoch 89/100\n",
            "84/84 [==============================] - 0s 2ms/step - loss: 0.0026\n",
            "Epoch 90/100\n",
            "84/84 [==============================] - 0s 2ms/step - loss: 0.0020\n",
            "Epoch 91/100\n",
            "84/84 [==============================] - 0s 2ms/step - loss: 0.0022\n",
            "Epoch 92/100\n",
            "84/84 [==============================] - 0s 2ms/step - loss: 0.0022\n",
            "Epoch 93/100\n",
            "84/84 [==============================] - 0s 2ms/step - loss: 0.0022\n",
            "Epoch 94/100\n",
            "84/84 [==============================] - 0s 2ms/step - loss: 0.0019\n",
            "Epoch 95/100\n",
            "84/84 [==============================] - 0s 2ms/step - loss: 0.0020\n",
            "Epoch 96/100\n",
            "84/84 [==============================] - 0s 3ms/step - loss: 0.0019\n",
            "Epoch 97/100\n",
            "84/84 [==============================] - 0s 2ms/step - loss: 0.0020\n",
            "Epoch 98/100\n",
            "84/84 [==============================] - 0s 2ms/step - loss: 0.0019\n",
            "Epoch 99/100\n",
            "84/84 [==============================] - 1s 8ms/step - loss: 0.0019\n",
            "Epoch 100/100\n",
            "84/84 [==============================] - 0s 4ms/step - loss: 0.0024\n",
            "27/27 [==============================] - 0s 2ms/step - loss: 0.0017\n",
            "7/7 [==============================] - 0s 3ms/step - loss: 0.0373\n",
            "Training accuracy: 0.001722149783745408\n",
            "Testing accuracy: 0.037330176681280136\n"
          ]
        },
        {
          "output_type": "display_data",
          "data": {
            "text/plain": [
              "<Figure size 432x288 with 1 Axes>"
            ],
            "image/png": "[encoded data removed]"
          },
          "metadata": {
            "needs_background": "light"
          }
        }
      ]
    },
    {
      "cell_type": "code",
      "source": [
        "losses = history.history['loss']\n",
        "plt.plot(range(len(losses)), losses, 'r')\n",
        "plt.show()"
      ],
      "metadata": {
        "colab": {
          "base_uri": "https://localhost:8080/",
          "height": 265
        },
        "id": "eZsNC_Gznn8F",
        "outputId": "ceed7798-cfb9-4239-f67d-e41b308edd00"
      },
      "execution_count": null,
      "outputs": [
        {
          "output_type": "display_data",
          "data": {
            "text/plain": [
              "<Figure size 432x288 with 1 Axes>"
            ],
            "image/png": "[encoded data removed]"
          },
          "metadata": {
            "needs_background": "light"
          }
        }
      ]
    }
  ]
}